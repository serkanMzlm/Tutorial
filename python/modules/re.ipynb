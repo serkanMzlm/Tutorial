{
 "cells": [
  {
   "cell_type": "code",
   "execution_count": 15,
   "metadata": {},
   "outputs": [],
   "source": [
    "import re\n",
    "text = \"Bu bir metin, içerisinde Ankara Istanbul Izmir gibi şehir isimleri bulunabilir.\"\n",
    "\n",
    "liste = [\"sat\",\"saat\",\"saaat\",\"set\",\"seet\",\"sut\",\"suut\",\"t\",\"$\",\"at\", \"katki\", \n",
    "         \"fakat\", \"atki\", \"rahat\", \"mat\", \"yat\", \"sat\", \"satilik\", \"katilim\"]\n"
   ]
  },
  {
   "cell_type": "code",
   "execution_count": 11,
   "metadata": {},
   "outputs": [
    {
     "data": {
      "text/plain": [
       "('Ankara', 'Istanbul', 'Izmir')"
      ]
     },
     "execution_count": 11,
     "metadata": {},
     "output_type": "execute_result"
    }
   ],
   "source": [
    "obj = re.search(\"(Ankara) (Istanbul) (Izmir)\", text) # Belirli bir metin içinde desen arar\n",
    "obj.groups() # ya da obj.group(0)"
   ]
  },
  {
   "cell_type": "code",
   "execution_count": 14,
   "metadata": {},
   "outputs": [
    {
     "data": {
      "text/plain": [
       "('Ankara', 'Istanbul', 'Izmir')"
      ]
     },
     "execution_count": 14,
     "metadata": {},
     "output_type": "execute_result"
    }
   ],
   "source": [
    "# Aranan desenin verilerine erişmek için kullanılır.\n",
    "obj.group(1), obj.group(2), obj.group(3)"
   ]
  }
 ],
 "metadata": {
  "kernelspec": {
   "display_name": "Python 3",
   "language": "python",
   "name": "python3"
  },
  "language_info": {
   "codemirror_mode": {
    "name": "ipython",
    "version": 3
   },
   "file_extension": ".py",
   "mimetype": "text/x-python",
   "name": "python",
   "nbconvert_exporter": "python",
   "pygments_lexer": "ipython3",
   "version": "3.10.12"
  }
 },
 "nbformat": 4,
 "nbformat_minor": 2
}
