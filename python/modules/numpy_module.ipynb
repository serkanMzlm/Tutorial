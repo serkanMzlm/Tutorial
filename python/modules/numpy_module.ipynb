{
 "cells": [
  {
   "cell_type": "code",
   "execution_count": 16,
   "metadata": {},
   "outputs": [
    {
     "data": {
      "text/html": [
       "<div>\n",
       "<style scoped>\n",
       "    .dataframe tbody tr th:only-of-type {\n",
       "        vertical-align: middle;\n",
       "    }\n",
       "\n",
       "    .dataframe tbody tr th {\n",
       "        vertical-align: top;\n",
       "    }\n",
       "\n",
       "    .dataframe thead th {\n",
       "        text-align: right;\n",
       "    }\n",
       "</style>\n",
       "<table border=\"1\" class=\"dataframe\">\n",
       "  <thead>\n",
       "    <tr style=\"text-align: right;\">\n",
       "      <th></th>\n",
       "      <th>0</th>\n",
       "      <th>1</th>\n",
       "      <th>2</th>\n",
       "    </tr>\n",
       "  </thead>\n",
       "  <tbody>\n",
       "    <tr>\n",
       "      <th>0</th>\n",
       "      <td>1</td>\n",
       "      <td>2</td>\n",
       "      <td>3</td>\n",
       "    </tr>\n",
       "    <tr>\n",
       "      <th>1</th>\n",
       "      <td>4</td>\n",
       "      <td>5</td>\n",
       "      <td>6</td>\n",
       "    </tr>\n",
       "  </tbody>\n",
       "</table>\n",
       "</div>"
      ],
      "text/plain": [
       "   0  1  2\n",
       "0  1  2  3\n",
       "1  4  5  6"
      ]
     },
     "execution_count": 16,
     "metadata": {},
     "output_type": "execute_result"
    }
   ],
   "source": [
    "import numpy as np\n",
    "import pandas as pd\n",
    "\n",
    "a1 = np.array([1, 2, 3])\n",
    "\n",
    "a2 = np.array([[1, 2, 3],\n",
    "              [4, 5, 6]])\n",
    "\n",
    "a3 = np.array([[[1, 2, 2.3],\n",
    "                [3, 3.4, 4],\n",
    "                [2, 4.3, 5]],\n",
    "\n",
    "                [[0, 2, 2.3],\n",
    "                [2, 2.2, 4],\n",
    "                [2, 3.2, 5]]]\n",
    "              )\n",
    "a1       # Matriks Değerleri\n",
    "a1.shape # Matriks Boyutları, Matriks Veri Türü\n",
    "a2.ndim  # Matriks Kaç Boyutlu Olduğu Bilgisi\n",
    "a1.dtype # Matriks Veri Türü\n",
    "a1.size  # Matriks Boyutu\n",
    "\n",
    "df = pd.DataFrame(a2) # Pandas veri aktarılmasını sağlar.\n",
    "df"
   ]
  },
  {
   "cell_type": "markdown",
   "metadata": {},
   "source": [
    "`np.random` kod her çalıştırıldığında farklı değerler üretir. Her çalıştırdığımızda aynı değerlerin oluşması için `np.random.seed(7)` kullanılır."
   ]
  },
  {
   "cell_type": "code",
   "execution_count": 20,
   "metadata": {},
   "outputs": [
    {
     "data": {
      "text/plain": [
       "(array([[1, 1, 1, 1],\n",
       "        [1, 1, 1, 1]]),\n",
       " dtype('int64'),\n",
       " array([[[0., 0., 0., 0.],\n",
       "         [0., 0., 0., 0.],\n",
       "         [0., 0., 0., 0.]],\n",
       " \n",
       "        [[0., 0., 0., 0.],\n",
       "         [0., 0., 0., 0.],\n",
       "         [0., 0., 0., 0.]]]))"
      ]
     },
     "execution_count": 20,
     "metadata": {},
     "output_type": "execute_result"
    }
   ],
   "source": [
    "# Birlerden oluşan dizin, shape boyutunu, dtype ise\n",
    "# türünü belirtir default olarak float64\n",
    "one_array = np.ones(shape = (2, 4), dtype = int) \n",
    "zeros_array = np.zeros((2, 3, 4)) # Sıfırdan oluşan\n",
    "range_array = np.arange(0, 20, 5) # Belirli bir aralıkta belirli artış miktarına göre oluşturur.\n",
    "\n",
    "random_array_1 = np.random.randint(0, 10, size=(2,4))\n",
    "random_array_2 = np.random.random((2,4)) # 0.0 - 1.0 arasında sayılar oluşturur.\n",
    "random_array_3 = np.random.rand(2,4)\n",
    "one_array, one_array.dtype, zeros_array"
   ]
  },
  {
   "cell_type": "markdown",
   "metadata": {},
   "source": [
    "- Erişim için `[,]` şeklinde ilerlenir.\n",
    "- Diziler üstünde aritmatik işlemler yapılabilir. (+, -, *, /, //, **, %)\n",
    "- `np.exp, np.log, np.sum, np.mean, np.max, np.min, np.std, np.var, np.sqrt` vb matamatiksel fonksiyonları kullanılabilir.\n",
    "- `sort` sıralamayı sağlar. `argsort` sıralama sonucunda sayıların gerçekte hangi index de olduğunu belirtir."
   ]
  },
  {
   "cell_type": "code",
   "execution_count": 26,
   "metadata": {},
   "outputs": [
    {
     "data": {
      "text/plain": [
       "array([[[1, 5],\n",
       "        [2, 7]],\n",
       "\n",
       "       [[1, 1],\n",
       "        [5, 1]]])"
      ]
     },
     "execution_count": 26,
     "metadata": {},
     "output_type": "execute_result"
    }
   ],
   "source": [
    "a1 = np.random.randint(1, 10, size=(2, 3, 3))\n",
    "a2 = np.ones((2, 3, 3))\n",
    "a1 + a2 # ya da np.add(a1, a2)\n",
    "a1 ** a2 # ya da np.square(a1, a2)\n",
    "a1[:2, :2, :2]\n"
   ]
  },
  {
   "cell_type": "code",
   "execution_count": 29,
   "metadata": {},
   "outputs": [
    {
     "data": {
      "text/plain": [
       "(array([[ 8,  3, 18,  1],\n",
       "        [22, 18,  3, 10],\n",
       "        [14, 17, 19, 16]]),\n",
       " array([[ 1,  3,  8, 18],\n",
       "        [ 3, 10, 18, 22],\n",
       "        [14, 16, 17, 19]]),\n",
       " array([[3, 1, 0, 2],\n",
       "        [2, 3, 1, 0],\n",
       "        [0, 3, 1, 2]]),\n",
       " 4,\n",
       " 3)"
      ]
     },
     "execution_count": 29,
     "metadata": {},
     "output_type": "execute_result"
    }
   ],
   "source": [
    "a1 = np.random.randint(1, 23, (3, 4))\n",
    "a1, np.sort(a1), np.argsort(a1), np.argmax(a1), np.argmin(a1)"
   ]
  },
  {
   "cell_type": "markdown",
   "metadata": {},
   "source": [
    "- Skaleer çarpımda a1 * a2 olabilmesi için boyutlarının uyumlu olması lazımdır. `reshape` yeniden boyutlandırmayı sağlar.\n",
    "- Vektorel çarpımda `(a,b)x(b,c) = (a,c)` şeklinde boyutları olması lazımdır.\n",
    "- **Transpose=** eksenlerin yer değiştirmesini sağlar."
   ]
  },
  {
   "cell_type": "code",
   "execution_count": 32,
   "metadata": {},
   "outputs": [
    {
     "data": {
      "text/plain": [
       "((2, 3), (3, 2))"
      ]
     },
     "execution_count": 32,
     "metadata": {},
     "output_type": "execute_result"
    }
   ],
   "source": [
    "a1 = np.random.randint(1, 10, size=(2, 3, 3))\n",
    "a2 = np.random.randint(1, 10, size=(2, 3))\n",
    "a2_reshape = a2.reshape(2, 3, 1)\n",
    "a2.shape, a2.T.shape"
   ]
  },
  {
   "cell_type": "code",
   "execution_count": 34,
   "metadata": {},
   "outputs": [
    {
     "data": {
      "text/plain": [
       "array([[3, 0],\n",
       "       [7, 2],\n",
       "       [7, 4],\n",
       "       [3, 0]])"
      ]
     },
     "execution_count": 34,
     "metadata": {},
     "output_type": "execute_result"
    }
   ],
   "source": [
    "a3 = np.random.randint(5, size=(4, 3))\n",
    "a4 = np.random.randint(5, size=(3, 2))\n",
    "np.dot(a3, a4) # Vektorel çarpım"
   ]
  },
  {
   "cell_type": "code",
   "execution_count": 33,
   "metadata": {},
   "outputs": [
    {
     "data": {
      "text/plain": [
       "(array([[5, 2, 2, 6],\n",
       "        [3, 9, 2, 8],\n",
       "        [9, 3, 2, 1]]),\n",
       " array([[7, 9, 1, 2],\n",
       "        [1, 1, 2, 7],\n",
       "        [1, 3, 7, 5]]),\n",
       " array([[False, False,  True,  True],\n",
       "        [ True,  True,  True,  True],\n",
       "        [ True,  True, False, False]]))"
      ]
     },
     "execution_count": 33,
     "metadata": {},
     "output_type": "execute_result"
    }
   ],
   "source": [
    "a5 = np.random.randint(1, 10, (3, 4))\n",
    "a6 = np.random.randint(1, 10, (3, 4))\n",
    "a5, a6, a5 >= a6"
   ]
  }
 ],
 "metadata": {
  "kernelspec": {
   "display_name": "Python 3",
   "language": "python",
   "name": "python3"
  },
  "language_info": {
   "codemirror_mode": {
    "name": "ipython",
    "version": 3
   },
   "file_extension": ".py",
   "mimetype": "text/x-python",
   "name": "python",
   "nbconvert_exporter": "python",
   "pygments_lexer": "ipython3",
   "version": "3.10.12"
  }
 },
 "nbformat": 4,
 "nbformat_minor": 2
}
