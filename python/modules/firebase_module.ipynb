{
 "cells": [
  {
   "cell_type": "code",
   "execution_count": 2,
   "metadata": {},
   "outputs": [
    {
     "data": {
      "text/plain": [
       "<firebase_admin.App at 0x7b027eb11cf0>"
      ]
     },
     "execution_count": 2,
     "metadata": {},
     "output_type": "execute_result"
    }
   ],
   "source": [
    "import numpy as np\n",
    "import pandas as pd\n",
    "import matplotlib.pyplot as plt\n",
    "\n",
    "import firebase_admin\n",
    "from firebase_admin import credentials, db\n",
    "\n",
    "# cred = credentials.Certificate(\"ems-arge-firebase-adminsdk-48e38-91e80f8cb4.json\")\n",
    "cred = credentials.Certificate(\"arge_firebase.json\")\n",
    "firebase_admin.initialize_app(cred, {\"databaseURL\":\"https://ems-arge-default-rtdb.firebaseio.com/\"})"
   ]
  },
  {
   "cell_type": "code",
   "execution_count": 6,
   "metadata": {},
   "outputs": [
    {
     "data": {
      "text/plain": [
       "24"
      ]
     },
     "execution_count": 6,
     "metadata": {},
     "output_type": "execute_result"
    }
   ],
   "source": [
    "ref = db.reference(\"/\")           # Referans konum ayarlaması yapıldı\n",
    "ref.get()                         # Alp başlıkların gösterir.\n",
    "db.reference(\"/age\").get()        # Belirli bir başlığı gösterir.\n",
    "db.reference(\"/age\").set(20)      # Belirli değerin set edilmesini sağlar."
   ]
  },
  {
   "cell_type": "code",
   "execution_count": 6,
   "metadata": {},
   "outputs": [],
   "source": [
    "db.reference(\"/\").update({\"data_name\":\"fish\"}) # Data eklenmesi veya güncelmesini sağlar.\n",
    "db.reference(\"/name\").delete()"
   ]
  }
 ],
 "metadata": {
  "kernelspec": {
   "display_name": "Python 3",
   "language": "python",
   "name": "python3"
  },
  "language_info": {
   "codemirror_mode": {
    "name": "ipython",
    "version": 3
   },
   "file_extension": ".py",
   "mimetype": "text/x-python",
   "name": "python",
   "nbconvert_exporter": "python",
   "pygments_lexer": "ipython3",
   "version": "3.10.12"
  }
 },
 "nbformat": 4,
 "nbformat_minor": 2
}
