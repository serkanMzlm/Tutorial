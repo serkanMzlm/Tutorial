{
 "cells": [
  {
   "cell_type": "code",
   "execution_count": 56,
   "metadata": {},
   "outputs": [],
   "source": [
    "import re\n",
    "text = \"Bu bir metin, bir içerisinde Ankara Istanbul Izmir 125 5 gibi şehir isimleri bulunabilir.\"\n",
    "\n",
    "liste = [\"sat\",\"saat\",\"saaat\",\"saet\",\"set\",\"seet\",\"sut\",\"suut\",\"$\",\"at\", \"katki\", \n",
    "         \"fakat\", \"atki\", \"rahat\", \"mat\", \"yat\",\"katilim\"]\n"
   ]
  },
  {
   "cell_type": "code",
   "execution_count": 57,
   "metadata": {},
   "outputs": [
    {
     "data": {
      "text/plain": [
       "('Ankara', 'Istanbul', 'Izmir')"
      ]
     },
     "execution_count": 57,
     "metadata": {},
     "output_type": "execute_result"
    }
   ],
   "source": [
    "obj = re.search(\"(Ankara) (Istanbul) (Izmir)\", text) # Belirli bir metin içinde desen arar\n",
    "obj.groups() # ya da obj.group(0)"
   ]
  },
  {
   "cell_type": "code",
   "execution_count": 58,
   "metadata": {},
   "outputs": [
    {
     "data": {
      "text/plain": [
       "('Ankara', 'Istanbul', 'Izmir')"
      ]
     },
     "execution_count": 58,
     "metadata": {},
     "output_type": "execute_result"
    }
   ],
   "source": [
    "# Aranan desenin verilerine erişmek için kullanılır.\n",
    "obj.group(1), obj.group(2), obj.group(3)"
   ]
  },
  {
   "cell_type": "code",
   "execution_count": 59,
   "metadata": {},
   "outputs": [
    {
     "name": "stdout",
     "output_type": "stream",
     "text": [
      "obj1: None \n",
      "obj2: <re.Match object; span=(3, 6), match='bir'> \n",
      "word count:  ['bir', 'bir']\n"
     ]
    }
   ],
   "source": [
    "obj1 = re.match(\"bir\", text)  # metnin içinde ilk kelime kontrolü yapar.(Bulamdı durumda None verir)\n",
    "re_alt = text.split()[0] == \"bir\" # re.match kullanılmadan bu kontrol yapılabilir. \n",
    "obj2 = re.search(\"bir\", text) # metnin tamamında arama yapar.\n",
    "word_count = re.findall(\"bir\", text) # Kaç defa geçtiyorsa bunları bir listeye koyar.\n",
    "print(\"obj1:\", obj1, \"\\nobj2:\", obj2, \"\\nword count: \", word_count)"
   ]
  },
  {
   "cell_type": "code",
   "execution_count": 60,
   "metadata": {},
   "outputs": [
    {
     "name": "stdout",
     "output_type": "stream",
     "text": [
      "elma kelimesi: (0, 4) index degeridir.\n",
      "tren kelimesi metin icinde bulunamadi\n",
      "armut kelimesi: (14, 19) index degeridir.\n",
      "muz kelimesi metin icinde bulunamadi\n",
      "elma kelimesi: (0, 4) index degeridir.\n"
     ]
    }
   ],
   "source": [
    "#Bir liste üzerinde işlem yapmak için \n",
    "liste2 = [\"elma\", \"tren\", \"armut\", \"muz\", \"elma\"]\n",
    "text3 = \"elma ev araba armut\"\n",
    "for i in liste2:\n",
    "    nesne = re.search(i, text3)\n",
    "    if nesne:\n",
    "        print(nesne.group(), \"kelimesi:\", nesne.span(), \"index degeridir.\")\n",
    "    else:\n",
    "        print(i, \"kelimesi metin icinde bulunamadi\")"
   ]
  },
  {
   "cell_type": "markdown",
   "metadata": {},
   "source": [
    "## re metin arama işlemleri\n",
    "\n",
    "re modülünde belirli kurallarla arama yapılabilir. `\\s` bir boşluk, `\\d` bir tam sayı, `\\w` alfanümerik  \n",
    "\n",
    "1. `[]:` Köşeli parantezler içindeki karakterlerden herhangi biriyle eşleşir.\n",
    "- [abc] ifadesi, \"a\", \"b\", veya \"c\" karakterlerinden herhangi biriyle eşleşir.\n",
    "- [a-z] ifadesi, küçük harflerle \"a\"dan \"z\"ye kadar herhangi bir harf ile eşleşir.\n",
    "- [0-9] ifadesi, herhangi bir rakam (0-9) ile eşleşir.\n",
    "\n",
    "2. `+:` Kendisinden önce gelen ifadenin bir veya daha fazla kez tekrarını belirtir. \n",
    "- a+ ifadesi, bir veya daha fazla \"a\" harfi ile eşleşir. Yani \"a\", \"aa\", \"aaa\" vb.\n",
    "- [0-9]+ ifadesi, bir veya daha fazla rakamdan oluşan bir dizi ile eşleşir. Yani \"1\", \"123\", \"4567\" \n",
    "\n",
    "3. `*:` Kendisinden önce gelen ifadenin sıfır veya daha fazla kez tekrarını belirtir.\n",
    "- a* ifadesi, sıfır veya daha fazla \"a\" harfi ile eşleşir. Yani \"\", \"a\", \"aa\", \"aaa\" vb.\n",
    "- [0-9]* ifadesi, sıfır veya daha fazla rakamdan oluşan bir dizi ile eşleşir. Yani \"\", \"1\", \"123\", \"4567\"\n",
    "\n",
    "4. `{}:` Belirli bir sayıda tekrar için kullanılır. İçinde belirtilen sayıda tekrar olmasını sağlar.\n",
    "- a{3} ifadesi, tam olarak üç \"a\" harfi ile eşleşir. Yani \"aaa\".\n",
    "- a{2,4} ifadesi, en az iki ve en fazla dört \"a\" harfi ile eşleşir. Yani \"aa\", \"aaa\", veya \"aaaa\".\n",
    "\n",
    "5. `.:` Herhangi bir tek karakter ile eşleşir (yeni satır karakteri hariç).\n",
    "- a.b ifadesi, \"a\" ve \"b\" arasında herhangi bir tek karakter olan bir dizgi ile eşleşir. Yani \"aab\", \"a1b\", \"a!b\" vb.\n",
    "\n",
    "6. `^:` İfadenin başlangıcını belirtir. Yani, metnin başında eşleşme arar.\n",
    "- ^Hello ifadesi, metnin \"Hello\" ile başlaması gerektiğini belirtir.\n",
    "- ^[0-9] ifadesi, metnin bir rakam ile başlaması gerektiğini belirtir.\n",
    "\n",
    "7. `?:` Kendisinden önce gelen ifadenin sıfır veya bir kez tekrarını belirtir.\n",
    "- a? ifadesi, sıfır veya bir \"a\" harfi ile eşleşir. Yani \"\", \"a\".\n",
    "- colou?r ifadesi, \"color\" veya \"colour\" kelimeleri ile eşleşir.\n",
    "\n",
    "8. `$:` İfadenin sonunu belirtir. Yani, metnin sonunda eşleşme arar.\n",
    "- world$ ifadesi, metnin \"world\" ile bitmesi gerektiğini belirtir.\n",
    "- [0-9]$ ifadesi, metnin bir rakam ile bitmesi gerektiğini belirtir."
   ]
  },
  {
   "cell_type": "code",
   "execution_count": 62,
   "metadata": {},
   "outputs": [
    {
     "name": "stdout",
     "output_type": "stream",
     "text": [
      "<re.Match object; span=(50, 54), match=' 125'>  |   125\n",
      "1. dongu 'sat' kelimesi\n",
      "_____\n",
      "sa*t: sat\n",
      "2. dongu 'saat' kelimesi\n",
      "_____\n",
      "sa*t: saat\n",
      "3. dongu 'saaat' kelimesi\n",
      "_____\n",
      "sa*t: saaat\n",
      "4. dongu 'saet' kelimesi\n",
      "_____\n",
      "5. dongu 'set' kelimesi\n",
      "_____\n",
      "6. dongu 'seet' kelimesi\n",
      "_____\n",
      "7. dongu 'sut' kelimesi\n",
      "_____\n",
      "8. dongu 'suut' kelimesi\n",
      "_____\n",
      "9. dongu '$' kelimesi\n",
      "_____\n",
      "10. dongu 'at' kelimesi\n",
      "_____\n",
      "11. dongu 'katki' kelimesi\n",
      "_____\n",
      "12. dongu 'fakat' kelimesi\n",
      "_____\n",
      "13. dongu 'atki' kelimesi\n",
      "_____\n",
      "14. dongu 'rahat' kelimesi\n",
      "_____\n",
      "15. dongu 'mat' kelimesi\n",
      "_____\n",
      "16. dongu 'yat' kelimesi\n",
      "_____\n",
      "17. dongu 'katilim' kelimesi\n",
      "_____\n"
     ]
    }
   ],
   "source": [
    "# Belirli kurallar eklenerek arama yapılabilir.\n",
    "# \\s bir boşluk, \\d bir tam sayı, \\w alfanümerik  \n",
    "find = re.search(\"\\s\\d+\\w\", text) # .group() eklenerek sadece aranan sonuç bulunur.\n",
    "print(find, \" | \", find.group())\n",
    "\n",
    "a = 0\n",
    "for i in liste:\n",
    "    a += 1 \n",
    "    print(\"{}. dongu '{}' kelimesi\\n_____\".format(a,i))\n",
    "    if re.match(\"sa*t\",i): \n",
    "        print(\"sa*t:\",i)\n",
    "    # ya da şeklinde de yapılabilir\n",
    "    # obj = re.search(\"s[ae]t\",i)\n",
    "    # if re.match(\"sa*t\",i):\n",
    "    #     print(\"s[ae]t:\",obj.group())\n"
   ]
  }
 ],
 "metadata": {
  "kernelspec": {
   "display_name": "Python 3",
   "language": "python",
   "name": "python3"
  },
  "language_info": {
   "codemirror_mode": {
    "name": "ipython",
    "version": 3
   },
   "file_extension": ".py",
   "mimetype": "text/x-python",
   "name": "python",
   "nbconvert_exporter": "python",
   "pygments_lexer": "ipython3",
   "version": "3.10.12"
  }
 },
 "nbformat": 4,
 "nbformat_minor": 2
}
