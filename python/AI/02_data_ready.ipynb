{
 "cells": [
  {
   "cell_type": "markdown",
   "metadata": {},
   "source": [
    "### Verileri Düzeltmek\n",
    "- Modelin verileri işleyebilmesi için doğru ve makinenin anlayacağı türden olması lazım\n",
    "- `NaN` değerler silinmeli ya da doldurulması lazım.\n",
    "- Veri düzenlemenin iki yolu gösterilmiştir"
   ]
  },
  {
   "cell_type": "code",
   "execution_count": 80,
   "metadata": {},
   "outputs": [
    {
     "data": {
      "text/plain": [
       "(950,\n",
       " '__________________________________________________',\n",
       " Unnamed: 0         int64\n",
       " Make              object\n",
       " Colour            object\n",
       " Odometer (KM)    float64\n",
       " Doors            float64\n",
       " Price            float64\n",
       " dtype: object,\n",
       " '__________________________________________________',\n",
       " Unnamed: 0        0\n",
       " Make             47\n",
       " Colour           46\n",
       " Odometer (KM)    48\n",
       " Doors            47\n",
       " Price             0\n",
       " dtype: int64)"
      ]
     },
     "execution_count": 80,
     "metadata": {},
     "output_type": "execute_result"
    }
   ],
   "source": [
    "import numpy as np\n",
    "import pandas as pd\n",
    "\n",
    "from sklearn.ensemble import RandomForestClassifier, RandomForestRegressor # Modeler\n",
    "from sklearn.model_selection import train_test_split  # Veri setinin bölmeye yarar\n",
    "from sklearn.preprocessing import OneHotEncoder  # Kategorik özellikleri binary özelliklere çevirme\n",
    "from sklearn.compose import ColumnTransformer    # Sütun bazında dönüşümler\n",
    "\n",
    "from sklearn.impute import SimpleImputer          # Eksik verileri doldurmak için kullanılır.\n",
    "from sklearn.compose import ColumnTransformer\n",
    "\n",
    "model = RandomForestRegressor()\n",
    "\n",
    "data1 = pd.read_csv(\"data/car_sales_extended_missing_data.csv\")\n",
    "data2 = pd.read_csv(\"data/car_sales_extended_missing_data.csv\")\n",
    "\n",
    "# \"Price\" kısmı sonuç verisi olduğu için bu kısımda olan Nan satırları silinir.\n",
    "# `inplace` kısmı direkt datanın üstünde işlem yapılması sağlanır.\n",
    "data1.dropna(subset=[\"Price\"], inplace=True) \n",
    "data2.dropna(subset=[\"Price\"], inplace=True) \n",
    "# data1.dropna(inplace=True) Nan değeri olan bütün satırlar silinir.\n",
    "\n",
    "# Data sayısını, data türünü gösterir\n",
    "len(data1),\"_\"*50, data1.dtypes, \"_\"*50, data1.isna().sum()    "
   ]
  },
  {
   "cell_type": "markdown",
   "metadata": {},
   "source": [
    "---\n",
    "### 1. Yol\n",
    "\n",
    "---"
   ]
  },
  {
   "cell_type": "code",
   "execution_count": 81,
   "metadata": {},
   "outputs": [
    {
     "data": {
      "text/plain": [
       "Doors\n",
       "4.0    768\n",
       "5.0     71\n",
       "3.0     64\n",
       "Name: count, dtype: int64"
      ]
     },
     "execution_count": 81,
     "metadata": {},
     "output_type": "execute_result"
    }
   ],
   "source": [
    "# \"Doors\" sütününda her bir benzersiz değerin kaç kez tekrarlandığını saymak için kullanılır. Kapı sayısında\n",
    "#  bir ortalama almak mantıklı değil bu yüzden boş olan kısımlara en fazla tekrarlanan veri koyulur\n",
    "data1[\"Doors\"].value_counts()"
   ]
  },
  {
   "cell_type": "code",
   "execution_count": 82,
   "metadata": {},
   "outputs": [
    {
     "data": {
      "text/plain": [
       "Unnamed: 0       0\n",
       "Make             0\n",
       "Colour           0\n",
       "Odometer (KM)    0\n",
       "Doors            0\n",
       "Price            0\n",
       "dtype: int64"
      ]
     },
     "execution_count": 82,
     "metadata": {},
     "output_type": "execute_result"
    }
   ],
   "source": [
    "data1[\"Make\"] = data1[\"Make\"].fillna(\"missing\") # Nan değelere \"missing\" ataması yapılır\n",
    "data1[\"Colour\"] = data1[\"Colour\"].fillna(\"missing\")\n",
    "\n",
    "# Nan değerlere o sütünün ortalaması atanır\n",
    "data1[\"Odometer (KM)\"] = data1[\"Odometer (KM)\"].fillna(data1[\"Odometer (KM)\"].mean()) \n",
    "data1[\"Doors\"] = data1[\"Doors\"].fillna(4) # En fazla 4 kapı var\n",
    "data1.isna().sum()  "
   ]
  },
  {
   "cell_type": "markdown",
   "metadata": {},
   "source": [
    "---\n",
    "\n",
    "- Model eğitmek için kullanılan verileri bilgisayarın anlayabileceği veriye dönüştürmek gerekir. \n",
    "Bu kısımda iki çözüm örneklendirildi. Renkler, markalar bir anlam ifade etmez. \n",
    "Bu yüzden \n",
    "- `One-hot encoding`, her kategorik değeri bir sütuna dönüştürür ve bu sütunların her birinde ilgili kategoriye ait olan veriler için 1, diğerleri için 0 değeri yer alır.\n",
    "    - `remainder=\"passthrough\"`: Bu parametre, categorical_features listesine dahil edilmeyen diğer sütunların dönüştürülmeden (orijinal halleriyle) bırakılmasını sağlar. Alternatif olarak, remainder=\"drop\" parametresini kullanarak bu sütunların atılmasını sağlayabilirsiniz.\n",
    "- `get_dummies` daha anlaşılır bir çıktı verir. Görevi aynıdır fakat `OneHotEncoder` daha iyi sonuç verir\n",
    "\n",
    "---"
   ]
  },
  {
   "cell_type": "code",
   "execution_count": 101,
   "metadata": {},
   "outputs": [
    {
     "data": {
      "text/html": [
       "<div>\n",
       "<style scoped>\n",
       "    .dataframe tbody tr th:only-of-type {\n",
       "        vertical-align: middle;\n",
       "    }\n",
       "\n",
       "    .dataframe tbody tr th {\n",
       "        vertical-align: top;\n",
       "    }\n",
       "\n",
       "    .dataframe thead th {\n",
       "        text-align: right;\n",
       "    }\n",
       "</style>\n",
       "<table border=\"1\" class=\"dataframe\">\n",
       "  <thead>\n",
       "    <tr style=\"text-align: right;\">\n",
       "      <th></th>\n",
       "      <th>Doors</th>\n",
       "      <th>Make_BMW</th>\n",
       "      <th>Make_Honda</th>\n",
       "      <th>Make_Nissan</th>\n",
       "      <th>Make_Toyota</th>\n",
       "      <th>Make_missing</th>\n",
       "      <th>Colour_Black</th>\n",
       "      <th>Colour_Blue</th>\n",
       "      <th>Colour_Green</th>\n",
       "      <th>Colour_Red</th>\n",
       "      <th>Colour_White</th>\n",
       "      <th>Colour_missing</th>\n",
       "    </tr>\n",
       "  </thead>\n",
       "  <tbody>\n",
       "    <tr>\n",
       "      <th>0</th>\n",
       "      <td>4.0</td>\n",
       "      <td>False</td>\n",
       "      <td>True</td>\n",
       "      <td>False</td>\n",
       "      <td>False</td>\n",
       "      <td>False</td>\n",
       "      <td>False</td>\n",
       "      <td>False</td>\n",
       "      <td>False</td>\n",
       "      <td>False</td>\n",
       "      <td>True</td>\n",
       "      <td>False</td>\n",
       "    </tr>\n",
       "    <tr>\n",
       "      <th>1</th>\n",
       "      <td>5.0</td>\n",
       "      <td>True</td>\n",
       "      <td>False</td>\n",
       "      <td>False</td>\n",
       "      <td>False</td>\n",
       "      <td>False</td>\n",
       "      <td>False</td>\n",
       "      <td>True</td>\n",
       "      <td>False</td>\n",
       "      <td>False</td>\n",
       "      <td>False</td>\n",
       "      <td>False</td>\n",
       "    </tr>\n",
       "    <tr>\n",
       "      <th>2</th>\n",
       "      <td>4.0</td>\n",
       "      <td>False</td>\n",
       "      <td>True</td>\n",
       "      <td>False</td>\n",
       "      <td>False</td>\n",
       "      <td>False</td>\n",
       "      <td>False</td>\n",
       "      <td>False</td>\n",
       "      <td>False</td>\n",
       "      <td>False</td>\n",
       "      <td>True</td>\n",
       "      <td>False</td>\n",
       "    </tr>\n",
       "  </tbody>\n",
       "</table>\n",
       "</div>"
      ],
      "text/plain": [
       "   Doors  Make_BMW  Make_Honda  Make_Nissan  Make_Toyota  Make_missing  \\\n",
       "0    4.0     False        True        False        False         False   \n",
       "1    5.0      True       False        False        False         False   \n",
       "2    4.0     False        True        False        False         False   \n",
       "\n",
       "   Colour_Black  Colour_Blue  Colour_Green  Colour_Red  Colour_White  \\\n",
       "0         False        False         False       False          True   \n",
       "1         False         True         False       False         False   \n",
       "2         False        False         False       False          True   \n",
       "\n",
       "   Colour_missing  \n",
       "0           False  \n",
       "1           False  \n",
       "2           False  "
      ]
     },
     "execution_count": 101,
     "metadata": {},
     "output_type": "execute_result"
    }
   ],
   "source": [
    "categorical_features = [\"Make\", \"Colour\", \"Doors\"]\n",
    "one_hot = OneHotEncoder()\n",
    "#\n",
    "# \n",
    "transformer = ColumnTransformer([(\"one_hot\",\n",
    "                                   one_hot,\n",
    "                                   categorical_features)],\n",
    "                                   remainder=\"passthrough\")\n",
    "\n",
    "tf_X = transformer.fit_transform(data1)\n",
    "\n",
    "# Ya da get_dummies\n",
    "dummies = pd.get_dummies(data1[categorical_features])\n",
    "dummies[:3]"
   ]
  },
  {
   "cell_type": "code",
   "execution_count": 109,
   "metadata": {},
   "outputs": [
    {
     "name": "stdout",
     "output_type": "stream",
     "text": [
      "Coefficient of Determination: 99.95 (one_hot)\n",
      "Coefficient of Determination: 12.22 (dummies)\n"
     ]
    }
   ],
   "source": [
    "y = data1[\"Price\"]\n",
    "X_train, X_test, y_train, y_test = train_test_split(tf_X, y, test_size=0.2)\n",
    "model.fit(X_train, y_train)\n",
    "score1 = model.score(X_test, y_test)\n",
    "\n",
    "X_train, X_test, y_train, y_test = train_test_split(dummies, y, test_size=0.2)\n",
    "model.fit(X_train, y_train)\n",
    "score2 = model.score(X_test, y_test)\n",
    "\n",
    "print(f\"Coefficient of Determination: {score1 * 100:.2f} (one_hot)\")\n",
    "print(f\"Coefficient of Determination: {score2 * 100:.2f} (dummies)\")"
   ]
  },
  {
   "cell_type": "markdown",
   "metadata": {},
   "source": [
    "---\n",
    "\n",
    "### 2. Yol\n",
    "\n",
    "---"
   ]
  },
  {
   "cell_type": "code",
   "execution_count": 110,
   "metadata": {},
   "outputs": [],
   "source": [
    "np.random.seed(42)\n",
    "X = data2.drop(\"Price\", axis=1)\n",
    "X_train, X_test, y_train, y_test = train_test_split(X,y,\n",
    "                                                    test_size=0.2)"
   ]
  },
  {
   "cell_type": "markdown",
   "metadata": {},
   "source": [
    "### Boş Değerlerin Doldurulması\n",
    "- `SimpleImputer` Eksik değerleri doldurmak için kullanılan sınıftır. `strategy` doldurma sırasında kullanılıcak stratejiyi beliler örnek olarak \"mean\" (ortalama), \"median\" (medyan), \"most_frequent\" (en sık tekrar eden değer) veya \"constant\" (sabit bir değer) olabilir. `fill_value` eksik değerleri doldurmak için kullanılacak sabit değeri belirtir.\n",
    "- `ColumnTransformer` Farklı sütunlara farklı dönüşümler veya işlemler uygulamak için kullanılır. İlk parametre dönüşüme ad verme için kullanılır.\n",
    "- `remainder=\"passthrough\"` parametresi, dönüşüm sırasında diğer sütunların değiştirilmeden kalmasını sağlar."
   ]
  },
  {
   "cell_type": "code",
   "execution_count": 111,
   "metadata": {},
   "outputs": [
    {
     "data": {
      "text/plain": [
       "Make             0\n",
       "Colour           0\n",
       "Doors            0\n",
       "Odometer (KM)    0\n",
       "dtype: int64"
      ]
     },
     "execution_count": 111,
     "metadata": {},
     "output_type": "execute_result"
    }
   ],
   "source": [
    "cat_imputer = SimpleImputer(strategy=\"constant\", fill_value=\"missing\")\n",
    "door_imputer = SimpleImputer(strategy=\"constant\", fill_value=4)\n",
    "num_imputer = SimpleImputer(strategy=\"mean\")\n",
    "\n",
    "cat_features = [\"Make\", \"Colour\"]\n",
    "door_feature = [\"Doors\"]\n",
    "num_features = [\"Odometer (KM)\"]\n",
    "\n",
    "imputer = ColumnTransformer([\n",
    "    (\"cat_imputer\", cat_imputer, cat_features),\n",
    "    (\"door_imputer\", door_imputer, door_feature),\n",
    "    (\"num_imputer\", num_imputer, num_features)\n",
    "])\n",
    "\n",
    "filled_X_train = imputer.fit_transform(X_train)\n",
    "filled_X_test = imputer.transform(X_test)\n",
    "\n",
    "car_sales_filled_train = pd.DataFrame(filled_X_train, \n",
    "                                      columns=[\"Make\", \"Colour\", \"Doors\", \"Odometer (KM)\"])\n",
    "\n",
    "car_sales_filled_test = pd.DataFrame(filled_X_test, \n",
    "                                     columns=[\"Make\", \"Colour\", \"Doors\", \"Odometer (KM)\"])\n",
    "car_sales_filled_test.isna().sum()"
   ]
  },
  {
   "cell_type": "code",
   "execution_count": 112,
   "metadata": {},
   "outputs": [
    {
     "data": {
      "text/plain": [
       "array([[0.00000e+00, 1.00000e+00, 0.00000e+00, ..., 1.00000e+00,\n",
       "        0.00000e+00, 7.19340e+04],\n",
       "       [0.00000e+00, 0.00000e+00, 0.00000e+00, ..., 1.00000e+00,\n",
       "        0.00000e+00, 1.62665e+05],\n",
       "       [0.00000e+00, 1.00000e+00, 0.00000e+00, ..., 1.00000e+00,\n",
       "        0.00000e+00, 4.28440e+04],\n",
       "       ...,\n",
       "       [0.00000e+00, 0.00000e+00, 0.00000e+00, ..., 1.00000e+00,\n",
       "        0.00000e+00, 1.96225e+05],\n",
       "       [0.00000e+00, 1.00000e+00, 0.00000e+00, ..., 1.00000e+00,\n",
       "        0.00000e+00, 1.33117e+05],\n",
       "       [0.00000e+00, 1.00000e+00, 0.00000e+00, ..., 1.00000e+00,\n",
       "        0.00000e+00, 1.50582e+05]])"
      ]
     },
     "execution_count": 112,
     "metadata": {},
     "output_type": "execute_result"
    }
   ],
   "source": [
    "categorical_features = [\"Make\", \"Colour\", \"Doors\"]\n",
    "one_hot = OneHotEncoder()\n",
    "\n",
    "transformer = ColumnTransformer([(\"one_hot\", one_hot, \n",
    "                                 categorical_features)],\n",
    "                                 remainder=\"passthrough\")\n",
    "\n",
    "transformed_X_train = transformer.fit_transform(car_sales_filled_train)\n",
    "transformed_X_test = transformer.transform(car_sales_filled_test)\n",
    "transformed_X_train.toarray()"
   ]
  },
  {
   "cell_type": "code",
   "execution_count": 113,
   "metadata": {},
   "outputs": [
    {
     "data": {
      "text/plain": [
       "0.21735623151692096"
      ]
     },
     "execution_count": 113,
     "metadata": {},
     "output_type": "execute_result"
    }
   ],
   "source": [
    "model = RandomForestRegressor()\n",
    "model.fit(transformed_X_train, y_train)\n",
    "model.score(transformed_X_test, y_test)"
   ]
  }
 ],
 "metadata": {
  "kernelspec": {
   "display_name": "Python 3",
   "language": "python",
   "name": "python3"
  },
  "language_info": {
   "codemirror_mode": {
    "name": "ipython",
    "version": 3
   },
   "file_extension": ".py",
   "mimetype": "text/x-python",
   "name": "python",
   "nbconvert_exporter": "python",
   "pygments_lexer": "ipython3",
   "version": "3.10.12"
  }
 },
 "nbformat": 4,
 "nbformat_minor": 2
}
