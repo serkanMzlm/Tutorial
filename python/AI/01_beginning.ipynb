{
 "cells": [
  {
   "cell_type": "markdown",
   "metadata": {},
   "source": [
    "## AI \n",
    "- Bu paket kalp hastalığı olup olmadığını ve ev fiyat tahmininde bulunan bir regresyon model üzerine gidilicektir.\n",
    "\n",
    "- Model oluşturuken X ve y kavramları genel olarak X, giriş verileridir y, çıkış verileridir.\n",
    "\n",
    "--- \n",
    "\n",
    "`california_house` verisini üst kısımda belirtilen parametrelere göre dataframe cevrime işlemi yapılmalıdır.\n",
    "\n",
    "**Not:** index uyumu için `pd.Series` kullanılır. Kullanılmadan da atama yapılabilir. Direkt atama yapılırsa boyutların (satır sayısı) aynı olması lazımdır yoksa hata verir. `pd.Series` index eşleşmesi ile atama yapar index eşleşmediği kısımlara \"NaN\" değeleri ataması yapar.\n",
    "\n",
    "---\n",
    "\n",
    "---"
   ]
  },
  {
   "cell_type": "code",
   "execution_count": 8,
   "metadata": {},
   "outputs": [
    {
     "data": {
      "text/plain": [
       "{'bootstrap': True,\n",
       " 'ccp_alpha': 0.0,\n",
       " 'class_weight': None,\n",
       " 'criterion': 'gini',\n",
       " 'max_depth': None,\n",
       " 'max_features': 'sqrt',\n",
       " 'max_leaf_nodes': None,\n",
       " 'max_samples': None,\n",
       " 'min_impurity_decrease': 0.0,\n",
       " 'min_samples_leaf': 1,\n",
       " 'min_samples_split': 2,\n",
       " 'min_weight_fraction_leaf': 0.0,\n",
       " 'monotonic_cst': None,\n",
       " 'n_estimators': 100,\n",
       " 'n_jobs': None,\n",
       " 'oob_score': False,\n",
       " 'random_state': None,\n",
       " 'verbose': 0,\n",
       " 'warm_start': False}"
      ]
     },
     "execution_count": 8,
     "metadata": {},
     "output_type": "execute_result"
    }
   ],
   "source": [
    "import pickle\n",
    "import numpy as np\n",
    "import pandas as pd\n",
    "\n",
    "import matplotlib.pyplot as plt\n",
    "from sklearn.model_selection import train_test_split # Veriyi bölmek için kullanılır\n",
    "\n",
    "from sklearn.ensemble import RandomForestClassifier # Sınıflandırma için kullanılır\n",
    "\n",
    "from sklearn.metrics import classification_report, confusion_matrix, accuracy_score\n",
    "\n",
    "clf = RandomForestClassifier()\n",
    "\n",
    "# 1. adım \"Getting the data ready\"\n",
    "heart_disease_data = pd.read_csv(\"data/heart-disease.csv\") \n",
    "clf.get_params()"
   ]
  },
  {
   "cell_type": "code",
   "execution_count": 9,
   "metadata": {},
   "outputs": [
    {
     "data": {
      "text/plain": [
       "(target\n",
       " 1    165\n",
       " 0    138\n",
       " Name: count, dtype: int64,\n",
       " (242, 13),\n",
       " (61, 13),\n",
       " (242,),\n",
       " (61,))"
      ]
     },
     "execution_count": 9,
     "metadata": {},
     "output_type": "execute_result"
    }
   ],
   "source": [
    " # \"target\" kısmını ve axis=1 yani sütün dışında kısım ataması yapılır.\n",
    "X = heart_disease_data.drop(\"target\", axis=1)\n",
    "y = heart_disease_data[\"target\"]\n",
    "\n",
    "# 2. adım \"Choose the right estimator/algorithm for our problems\"\n",
    "X_train, X_test, y_train, y_test = train_test_split(X, y, test_size=0.2) # Verileri bölmek için kullanılır (%20)\n",
    "y.value_counts(), X_train.shape, X_test.shape, y_train.shape, y_test.shape"
   ]
  },
  {
   "cell_type": "markdown",
   "metadata": {},
   "source": [
    "---\n",
    "\n",
    "Modeli eğitilicek verinin bölünmesinin nedeni model eğitimi sırasında karşılaşmadığı verilerle sınanması lazım bu sayede doğruluk oranı ölçülmüş gerçekci olur. Eğer eğitilen verilerle ölçüm yapılırsa 1 yani hepsi doğru sonucu çıkabilir.\n",
    "\n",
    "---"
   ]
  },
  {
   "cell_type": "code",
   "execution_count": 10,
   "metadata": {},
   "outputs": [
    {
     "name": "stdout",
     "output_type": "stream",
     "text": [
      "(score) Model Coef: %81.97\n",
      "(score2) Model Coef: %81.97\n"
     ]
    }
   ],
   "source": [
    "\n",
    "clf.fit(X_train, y_train)  # Veri ile model eğitilir.\n",
    "\n",
    "# 3. adım \"Fit the model/algorithm and use it to make predictions on our data\" (prediction)\n",
    "# Belirtilen veride hasta olup olmadığını 1 - 0 olarak bir dizi verir\n",
    "y_preds = clf.predict(X_test)  \n",
    "\n",
    "# Belirtilen verinin yüzdelik olarak 1 mi 0 mı olduğu bu sekilde gösterilir\n",
    "y_probs = clf.predict_proba(X_test)\n",
    "score = clf.score(X_test, y_test) # Doğruluk oranını verir.\n",
    "score2 = accuracy_score(y_test, y_preds)   # Doğruluk oranını verir.\n",
    "\n",
    "# 4. Evaluating a model\n",
    "print(f\"(score) Model Coef: %{score*100:.2f}\")\n",
    "print(f\"(score2) Model Coef: %{score2*100:.2f}\")"
   ]
  },
  {
   "cell_type": "markdown",
   "metadata": {},
   "source": [
    "---\n",
    "## confusion matrix\n",
    "Çabraz şekilde (Sol üst kısımdan sağ alt kısam) şeklinde doğru tahmin sayısıdır.\n",
    "- True Positive (TP): Modelin pozitif olarak doğru tahmin ettiği örneklerin sayısı.\n",
    "- True Negative (TN): Modelin negatif olarak doğru tahmin ettiği örneklerin sayısı.\n",
    "- False Positive (FP): Modelin pozitif olarak yanlış tahmin ettiği örneklerin sayısı (Type I error).\n",
    "- False Negative (FN): Modelin negatif olarak yanlış tahmin ettiği örneklerin sayısı (Type II error).\n",
    "---"
   ]
  },
  {
   "cell_type": "code",
   "execution_count": 11,
   "metadata": {},
   "outputs": [
    {
     "name": "stdout",
     "output_type": "stream",
     "text": [
      "              precision    recall  f1-score   support\n",
      "\n",
      "           0       0.81      0.71      0.76        24\n",
      "           1       0.82      0.89      0.86        37\n",
      "\n",
      "    accuracy                           0.82        61\n",
      "   macro avg       0.82      0.80      0.81        61\n",
      "weighted avg       0.82      0.82      0.82        61\n",
      "\n"
     ]
    },
    {
     "data": {
      "text/plain": [
       "array([[17,  7],\n",
       "       [ 4, 33]])"
      ]
     },
     "execution_count": 11,
     "metadata": {},
     "output_type": "execute_result"
    }
   ],
   "source": [
    "print(classification_report(y_test, y_preds)) # Model hakkında bilgi verir.\n",
    "\n",
    "# Modelin actual - predicted verir. ((TN, FP), (FN, TP))\n",
    "#                   Tahmin Edilen\n",
    "#                 Negatif    Pozitif\n",
    "# Gerçek Negatif   TN         FP\n",
    "# Gerçek Pozitif   FN         TP\n",
    "confusion_matrix(y_test, y_preds)             "
   ]
  },
  {
   "cell_type": "code",
   "execution_count": 12,
   "metadata": {},
   "outputs": [
    {
     "name": "stdout",
     "output_type": "stream",
     "text": [
      "Trying model with 10 estimators...\n",
      "Model accuracy on test set: 77.05%\n",
      "\n",
      "Trying model with 30 estimators...\n",
      "Model accuracy on test set: 80.33%\n",
      "\n",
      "Trying model with 50 estimators...\n",
      "Model accuracy on test set: 80.33%\n",
      "\n",
      "Trying model with 70 estimators...\n",
      "Model accuracy on test set: 80.33%\n",
      "\n",
      "Trying model with 90 estimators...\n",
      "Model accuracy on test set: 80.33%\n",
      "\n"
     ]
    }
   ],
   "source": [
    "# 5. Experiment to improve (hyperparameter tuning)\n",
    "np.random.seed(42) # Random üreteçeği değerin her çalıştırmada aynı olmasını sağlar.\n",
    "for i in range(10, 100, 20):  # Modelin \"estimator\" değerinde daha iyi sonuç verildiğine bakılır\n",
    "    print(f\"Trying model with {i} estimators...\")\n",
    "    clf = RandomForestClassifier(n_estimators=i).fit(X_train, y_train)\n",
    "    print(f\"Model accuracy on test set: {clf.score(X_test, y_test) * 100:.2f}%\")\n",
    "    print(\"\")"
   ]
  },
  {
   "cell_type": "code",
   "execution_count": 13,
   "metadata": {},
   "outputs": [
    {
     "name": "stdout",
     "output_type": "stream",
     "text": [
      "0.8032786885245902\n"
     ]
    }
   ],
   "source": [
    "# 6. Load and save model\n",
    "pickle.dump(clf, open(\"model/random_forst_model_1.pkl\", \"wb\")) # Eğitilen modelin kaydedilmesini sağlar.\n",
    "load_model = pickle.load(open(\"model/random_forst_model_1.pkl\", \"rb\")) # Modelin yüklenmesini sağlar.\n",
    "print(load_model.score(X_test, y_test))"
   ]
  }
 ],
 "metadata": {
  "kernelspec": {
   "display_name": "Python 3",
   "language": "python",
   "name": "python3"
  },
  "language_info": {
   "codemirror_mode": {
    "name": "ipython",
    "version": 3
   },
   "file_extension": ".py",
   "mimetype": "text/x-python",
   "name": "python",
   "nbconvert_exporter": "python",
   "pygments_lexer": "ipython3",
   "version": "3.10.12"
  }
 },
 "nbformat": 4,
 "nbformat_minor": 2
}
