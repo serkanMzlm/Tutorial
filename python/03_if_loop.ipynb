{
 "cells": [
  {
   "cell_type": "markdown",
   "metadata": {},
   "source": [
    "- `pass`  pas gecmek anlamında \n",
    "- `break`  döngüyü sonlandirmak\n",
    "- `continue` döngüyü başa sarmak"
   ]
  },
  {
   "cell_type": "code",
   "execution_count": 1,
   "metadata": {},
   "outputs": [
    {
     "name": "stdout",
     "output_type": "stream",
     "text": [
      "---------\n",
      "--------\n",
      "-------\n",
      "------\n",
      "-----\n",
      "----\n",
      "---\n",
      "--\n",
      "-\n"
     ]
    }
   ],
   "source": [
    "number = 10\n",
    "name = \"Osman\"\n",
    "if number % 2 == 0 and number < 19:\n",
    "    pass\n",
    "elif number % 3 == 1 or number >= 19:\n",
    "    pass\n",
    "elif not 'O' in name and 'o' in name:\n",
    "    pass\n",
    "else:\n",
    "    pass\n",
    "\n",
    "while number > 1:\n",
    "    number -= 1\n",
    "    print(\"-\"*number)\n"
   ]
  },
  {
   "cell_type": "code",
   "execution_count": 8,
   "metadata": {},
   "outputs": [
    {
     "name": "stdout",
     "output_type": "stream",
     "text": [
      "3.  f\n",
      "4.  o\n",
      "5.  r\n",
      "0\n",
      "4\n",
      "8\n"
     ]
    }
   ],
   "source": [
    "# Sıralama islemi yapmamizi sağler. İkinci parametre \n",
    "# sıralam işleninin kactan baslayacagını belirtir\n",
    "for number, i in enumerate(\"for\", 3):\n",
    "    print (\"{}.  {}\".format(number, i))\n",
    "for j in range(0, 10, 4):\n",
    "    print(j)"
   ]
  }
 ],
 "metadata": {
  "kernelspec": {
   "display_name": "Python 3",
   "language": "python",
   "name": "python3"
  },
  "language_info": {
   "codemirror_mode": {
    "name": "ipython",
    "version": 3
   },
   "file_extension": ".py",
   "mimetype": "text/x-python",
   "name": "python",
   "nbconvert_exporter": "python",
   "pygments_lexer": "ipython3",
   "version": "3.10.12"
  }
 },
 "nbformat": 4,
 "nbformat_minor": 2
}
