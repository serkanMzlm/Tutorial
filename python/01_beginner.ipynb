{
 "cells": [
  {
   "cell_type": "markdown",
   "metadata": {},
   "source": [
    "## Standart Fonksiyonlar\n",
    "- `print()`: Standart girdi fonksiyonudur. Print içinde işlemler yapılabilir.\n",
    "    - `sep`: `,` den sonra ne yapılması gerektiği\n",
    "    - `end`: Fonksiyon bittikten sonra ne yapılması gerektiği\n",
    "    - `file`: Çıktının konumunun ayarlanmasını sağlar.\n",
    "    - `flush`: Dosyanın print fonksiyonundan sonra kapanıp kapanmayacağını belirler.\n",
    "- `type()`: Veri tipi öğrenilir.\n",
    "- `pow()`: Kuvvet almak için kullanılır.\n",
    "- `del()`: Değişkenin silinmesini sağlar.\n",
    "- `eval()`: Evaluate (değerlendirme) kendine verilen karakter dizilerini  degerlendirir. `eval` ve `exec` arasında ki fark `exec` değişkene deger atanabilir\n",
    "- `repr()`: Metnin icinde bulunan kacis satirlarinida gösterir\n",
    "- `round()`: Degerin yuvarlanmasini sağlar. İlk parametre yuvalanacak sayi ikinci parametre virgülden sonra kac hane gözükmesi gerektiği.\n",
    "- `dir()`: Bize bir nesnenin özelliklerinini \n",
    "- `help()`: Bir nesne hakkında bilgi almamizi saglar\n",
    "- `id()`: Kimlik bilgisidir.\n"
   ]
  },
  {
   "cell_type": "code",
   "execution_count": 24,
   "metadata": {},
   "outputs": [
    {
     "name": "stdout",
     "output_type": "stream",
     "text": [
      "'Python da  tek tirnak, iki tirnak,\\nuc tirnak icinde kullanilan her sey karakter dizisidir.\\nUc tirnak  en onemli farki  tirnagi kapatana kadar alt \\nsatira gecmeyi ve uzun cümeler yazmada kolaylik saglar ayni \\nzamanda yorum çoklu satiri olarakta kullanilmasini sağlar.\\n'\n",
      "h\n",
      "i\n",
      "25\n",
      "--------------------\n",
      "n\n",
      " v\u000b  f\fr\n",
      "v\n"
     ]
    }
   ],
   "source": [
    "text = \"\"\"Python da  tek tirnak, iki tirnak,\n",
    "uc tirnak icinde kullanilan her sey karakter dizisidir.\n",
    "Uc tirnak  en onemli farki  tirnagi kapatana kadar alt \n",
    "satira gecmeyi ve uzun cümeler yazmada kolaylik saglar ayni \n",
    "zamanda yorum çoklu satiri olarakta kullanilmasini sağlar.\n",
    "\"\"\"\n",
    "\n",
    "print(text)\n",
    "\n",
    "# * eğer bir str'nin başında olursa o str'nin karakter karakter\n",
    "# okunmasını sağlar. Sonunda olursa o str'nin belirtilen sayı \n",
    "# kadar tekrar edilmesini sağlar.\n",
    "print(*\"hi\", 10 + 15, sep=\"\\n\") \n",
    "print(\"-\"*20)\n",
    "print (\"n\\n\",\"t\\t\",\"a\\a\",\"r\\r\",\"v\\v\",\"b\\b\",\"f\\f\") # Kaçış dizeleri \n",
    "print (\"\\u0076\") # ASCII karakter karşılığını gösterir\n"
   ]
  },
  {
   "cell_type": "code",
   "execution_count": 13,
   "metadata": {},
   "outputs": [
    {
     "name": "stdout",
     "output_type": "stream",
     "text": [
      "ad :  serkan\n"
     ]
    }
   ],
   "source": [
    "ad = input(\"adinizi girin : \") # Kullanıcıdan  veri almak için kullanılır\n",
    "print (\"ad : \",ad)"
   ]
  },
  {
   "cell_type": "code",
   "execution_count": 10,
   "metadata": {},
   "outputs": [
    {
     "data": {
      "text/plain": [
       "(str, int, float, complex)"
      ]
     },
     "execution_count": 10,
     "metadata": {},
     "output_type": "execute_result"
    }
   ],
   "source": [
    "type('A'), type(123), type(12.3), type(12+4j)"
   ]
  },
  {
   "cell_type": "code",
   "execution_count": 16,
   "metadata": {},
   "outputs": [
    {
     "name": "stdout",
     "output_type": "stream",
     "text": [
      "text uzunlugu: 261\n"
     ]
    }
   ],
   "source": [
    "print(\"text uzunlugu:\",len(text))\n",
    "del text"
   ]
  },
  {
   "cell_type": "code",
   "execution_count": 23,
   "metadata": {},
   "outputs": [
    {
     "data": {
      "text/plain": [
       "(8, 8, 3)"
      ]
     },
     "execution_count": 23,
     "metadata": {},
     "output_type": "execute_result"
    }
   ],
   "source": [
    "pow(2, 3), 2**3, pow(2, 3, 5)"
   ]
  },
  {
   "cell_type": "code",
   "execution_count": 20,
   "metadata": {},
   "outputs": [
    {
     "name": "stdout",
     "output_type": "stream",
     "text": [
      "abcd\n",
      "10\n"
     ]
    }
   ],
   "source": [
    "data = \"print ('abcd')\"\n",
    "deger = eval(data) # Veri içinde bulunan print normal kod gibi davranır\n",
    "exec(\"a=10\")       # Atama eval ile yapılamaz\n",
    "print(a)"
   ]
  },
  {
   "cell_type": "markdown",
   "metadata": {},
   "source": [
    "---\n",
    "### Variable & Casting & Swap\n",
    "Casting için int(), float(), complex(), str() kullanilir. "
   ]
  },
  {
   "cell_type": "code",
   "execution_count": 27,
   "metadata": {},
   "outputs": [
    {
     "data": {
      "text/plain": [
       "(1, 2, [3, 4, 5, 6, 7], 8)"
      ]
     },
     "execution_count": 27,
     "metadata": {},
     "output_type": "execute_result"
    }
   ],
   "source": [
    "val1 = val2 = 10                               # val_1 ve val_2 değerine 10 atanır.\n",
    "a, b = 1, 2                                    # Sırası ile atama işlemi yapılır.\n",
    "c, d, *other = [1, 2, 3, 4, 5, 6, 7]           # İlk iki kısım sırayla atanır gerisi other liste olarak atanır.\n",
    "e, f, *other_2, g = [1, 2, 3, 4, 5, 6, 7, 8]   # Son değer g ye atanır ilk değerler e ve f atanır gerisi other\n",
    "\n",
    "e, f, other_2, g"
   ]
  },
  {
   "cell_type": "code",
   "execution_count": 28,
   "metadata": {},
   "outputs": [
    {
     "name": "stdout",
     "output_type": "stream",
     "text": [
      "a: 1 | b: 2\n",
      "a: 2 | b: 1\n"
     ]
    }
   ],
   "source": [
    "print (\"a:\", a, \"| b:\", b)\n",
    "a, b = b, a\n",
    "print (\"a:\", a, \"| b:\", b)"
   ]
  },
  {
   "cell_type": "code",
   "execution_count": 19,
   "metadata": {},
   "outputs": [
    {
     "data": {
      "text/plain": [
       "(str, float, complex, int)"
      ]
     },
     "execution_count": 19,
     "metadata": {},
     "output_type": "execute_result"
    }
   ],
   "source": [
    "data = 12\n",
    "type(str(data)), type(float(data)), type(complex(data)), type(int(data))"
   ]
  }
 ],
 "metadata": {
  "kernelspec": {
   "display_name": "Python 3",
   "language": "python",
   "name": "python3"
  },
  "language_info": {
   "codemirror_mode": {
    "name": "ipython",
    "version": 3
   },
   "file_extension": ".py",
   "mimetype": "text/x-python",
   "name": "python",
   "nbconvert_exporter": "python",
   "pygments_lexer": "ipython3",
   "version": "3.10.12"
  }
 },
 "nbformat": 4,
 "nbformat_minor": 2
}
