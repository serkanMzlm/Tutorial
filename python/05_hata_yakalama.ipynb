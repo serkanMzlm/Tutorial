{
 "cells": [
  {
   "cell_type": "markdown",
   "metadata": {},
   "source": [
    "### Hata Türleri:\n",
    "- Programcı hatası  (Error)\n",
    "- Program kusurları (Bug)\n",
    "- İstisnalar (Exception)\n",
    "### Hatalar:\n",
    "- `SyntaxError`:  Söz dizimi hatasi\n",
    "- `IndexError`: Bir listenin sınırları disindaki bir dizine erişmeye çalışılınca oluşur.\n",
    "- `ValueError`: Integer değere float veya string atamaya calistigimizda oluşur.\n",
    "- `ZeroDivisionError`: Sıfıra bölme durumunda oluşur."
   ]
  },
  {
   "cell_type": "code",
   "execution_count": 3,
   "metadata": {},
   "outputs": [
    {
     "ename": "NameError",
     "evalue": "name 'ZerroDivisionError' is not defined",
     "output_type": "error",
     "traceback": [
      "\u001b[0;31m---------------------------------------------------------------------------\u001b[0m",
      "\u001b[0;31mZeroDivisionError\u001b[0m                         Traceback (most recent call last)",
      "Cell \u001b[0;32mIn[3], line 5\u001b[0m\n\u001b[1;32m      4\u001b[0m b \u001b[38;5;241m=\u001b[39m \u001b[38;5;28mint\u001b[39m(\u001b[38;5;28minput\u001b[39m(\u001b[38;5;124m\"\u001b[39m\u001b[38;5;124mbolunen : \u001b[39m\u001b[38;5;124m\"\u001b[39m))\n\u001b[0;32m----> 5\u001b[0m c \u001b[38;5;241m=\u001b[39m \u001b[38;5;28mstr\u001b[39m(\u001b[38;5;28;43mfloat\u001b[39;49m\u001b[43m(\u001b[49m\u001b[43mb\u001b[49m\u001b[43m)\u001b[49m\u001b[38;5;241;43m/\u001b[39;49m\u001b[43ma\u001b[49m)\n\u001b[1;32m      6\u001b[0m dosya\u001b[38;5;241m.\u001b[39mwrite(c)\n",
      "\u001b[0;31mZeroDivisionError\u001b[0m: float division by zero",
      "\nDuring handling of the above exception, another exception occurred:\n",
      "\u001b[0;31mNameError\u001b[0m                                 Traceback (most recent call last)",
      "Cell \u001b[0;32mIn[3], line 11\u001b[0m\n\u001b[1;32m      8\u001b[0m \u001b[38;5;28;01mexcept\u001b[39;00m \u001b[38;5;167;01mValueError\u001b[39;00m: \u001b[38;5;66;03m# Oluşabilicek hata türü\u001b[39;00m\n\u001b[1;32m      9\u001b[0m   \u001b[38;5;28mprint\u001b[39m (\u001b[38;5;124m\"\u001b[39m\u001b[38;5;124mSadece sayi girin ...\u001b[39m\u001b[38;5;124m\"\u001b[39m)\n\u001b[0;32m---> 11\u001b[0m \u001b[38;5;28;01mexcept\u001b[39;00m \u001b[43mZerroDivisionError\u001b[49m \u001b[38;5;28;01mas\u001b[39;00m hataadi : \u001b[38;5;66;03m# Bu hata olusunca aciklamasini hataadi değişkenine atanır\u001b[39;00m\n\u001b[1;32m     12\u001b[0m   \u001b[38;5;28mprint\u001b[39m (\u001b[38;5;124m\"\u001b[39m\u001b[38;5;124mSifira bolunmez ...\u001b[39m\u001b[38;5;124m\"\u001b[39m)\n\u001b[1;32m     13\u001b[0m   \u001b[38;5;28mprint\u001b[39m (hataadi)\n",
      "\u001b[0;31mNameError\u001b[0m: name 'ZerroDivisionError' is not defined"
     ]
    }
   ],
   "source": [
    "\n",
    "dosya = open(\"file.txt\",\"w\")\n",
    "try : # Hatanin olabilecegi kisim\n",
    "  a = int(input(\"bolen : \"))\n",
    "  b = int(input(\"bolunen : \"))\n",
    "  c = str(float(b)/a)\n",
    "  dosya.write(c)\n",
    "\n",
    "except ValueError: # Oluşabilicek hata türü\n",
    "  print (\"Sadece sayi girin ...\")\n",
    "\n",
    "except ZerroDivisionError as hataadi : # Bu hata olusunca aciklamasini hataadi değişkenine atanır\n",
    "  print (\"Sifira bolunmez ...\")\n",
    "  print (hataadi)\n",
    "\n",
    "except : # Oluşabilecek tüm hatalarda \n",
    "  print (\"hata olustu ...\")\n",
    "\n",
    "finally : #hata olsada olmasada çalışıcak kısımdır.\n",
    "  dosya.close()"
   ]
  },
  {
   "cell_type": "code",
   "execution_count": 2,
   "metadata": {},
   "outputs": [],
   "source": [
    "tr = \"ıİüÜöÖçÇşŞğĞ\"\n",
    "ad = input ( \"adiniz : \")\n",
    "for a in ad:\n",
    "  if a in tr:\n",
    "    # \"raise\" sayesinde istedigimiz kisimlarda kullanicinin girmesini istemddigimiz  hata olarak \n",
    "    # anlamasini  istedigimiz yerlerde kullanilir. Hata adi istenildigi gibi verilebilir.\n",
    "    raise TypeError (\"Turkce karakter kulandiniz\") \n",
    "  \n",
    "assert len(ad)!=0,\"isin bos birakildi\" # \"raisle\" aynıdır. (Daha topludur)"
   ]
  }
 ],
 "metadata": {
  "kernelspec": {
   "display_name": "Python 3",
   "language": "python",
   "name": "python3"
  },
  "language_info": {
   "codemirror_mode": {
    "name": "ipython",
    "version": 3
   },
   "file_extension": ".py",
   "mimetype": "text/x-python",
   "name": "python",
   "nbconvert_exporter": "python",
   "pygments_lexer": "ipython3",
   "version": "3.10.12"
  }
 },
 "nbformat": 4,
 "nbformat_minor": 2
}
