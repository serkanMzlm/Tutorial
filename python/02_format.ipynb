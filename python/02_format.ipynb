{
 "cells": [
  {
   "cell_type": "markdown",
   "metadata": {},
   "source": [
    "`print()` fonksiyonun içinde yer tutma sonradan doldurma için **format**, **%**, **f** kullanılır."
   ]
  },
  {
   "cell_type": "code",
   "execution_count": 13,
   "metadata": {},
   "outputs": [],
   "source": [
    "text1 = \"\"\"\n",
    "Ad : {}\n",
    "Soyad : {}\n",
    "Numara : {}\n",
    "Serhir : {}\n",
    "\"\"\"\n",
    "# İlk sayı index belirtir.\n",
    "text2 = \"\"\"\n",
    "{1:<20}  sola dayali \n",
    "{0:>20}  saga dayali\n",
    "{1:^20}  ortada \n",
    "{0}\n",
    "\"\"\"\n",
    "\n",
    "text3 = \"\"\"\n",
    "adiniz = %(ad)s \n",
    "numraniz = %(numara)i\n",
    "hosgeldiniz  %(ad)s\n",
    "\"\"\""
   ]
  },
  {
   "cell_type": "code",
   "execution_count": 14,
   "metadata": {},
   "outputs": [],
   "source": [
    "ad = input (\"adinizi girin : \")\n",
    "soyad = input (\"soyadinizi girin : \")\n",
    "numara = int(input (\"numaranizi girin : \"))\n",
    "sehir = input (\"sehir girin : \")"
   ]
  },
  {
   "cell_type": "code",
   "execution_count": 15,
   "metadata": {},
   "outputs": [
    {
     "name": "stdout",
     "output_type": "stream",
     "text": [
      "\n",
      "Ad : serkan\n",
      "Soyad : mazlum\n",
      "Numara : 234\n",
      "Serhir : kars\n",
      "\n",
      "\n",
      "mazlum                sola dayali \n",
      "              serkan  saga dayali\n",
      "       mazlum         ortada \n",
      "serkan\n",
      "\n",
      "\n",
      "adiniz = serkan \n",
      "numraniz = 234\n",
      "hosgeldiniz  serkan\n",
      "\n",
      "isminiz : serkan\n",
      "soyad : mazlum\n",
      "numara : 234\n"
     ]
    }
   ],
   "source": [
    "print(text1.format(ad,soyad,numara,sehir))\n",
    "print(text2.format(ad,soyad))\n",
    "print(text3%{\"ad\": ad, \"numara\": numara})\n",
    "print(f\"isminiz : {ad}\\nsoyad : {soyad}\\nnumara : {numara}\")"
   ]
  }
 ],
 "metadata": {
  "kernelspec": {
   "display_name": "Python 3",
   "language": "python",
   "name": "python3"
  },
  "language_info": {
   "codemirror_mode": {
    "name": "ipython",
    "version": 3
   },
   "file_extension": ".py",
   "mimetype": "text/x-python",
   "name": "python",
   "nbconvert_exporter": "python",
   "pygments_lexer": "ipython3",
   "version": "3.10.12"
  }
 },
 "nbformat": 4,
 "nbformat_minor": 2
}
