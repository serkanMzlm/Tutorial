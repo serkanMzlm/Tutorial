{
 "cells": [
  {
   "cell_type": "code",
   "execution_count": 22,
   "metadata": {},
   "outputs": [
    {
     "name": "stdout",
     "output_type": "stream",
     "text": [
      "karakter dizileri ...  |  k\n",
      "ra\n",
      "kara kter dizileri ...\n",
      "kter dizileri\n",
      "... irelizid retkarak\n",
      "<reversed object at 0x78f9e436e3e0>\n",
      "[' ', ' ', '.', '.', '.', 'a', 'a', 'd', 'e', 'e', 'i', 'i', 'i', 'k', 'k', 'l', 'r', 'r', 'r', 't', 'z']\n",
      "KaraKter dizileri ...\n"
     ]
    }
   ],
   "source": [
    "text1 = \"karakter dizileri ...\"\n",
    "text2 = \"123456789\"\n",
    "text3 = \"merhaba, Sesm\"\n",
    "print (text1, \" | \", text1[0]) # Index olarak veriye erişilebilir.\n",
    "print (text1[2:4])            # Belirli aralık alınabilir. Başlangıç belirtilmezse 0 indexden başlar. (text1[:4])\n",
    "print (text1[:4], text1[4:])   # 0 - 3 indisi arasını alır. 4 - son index arasını alır.\n",
    "print (text1[4:-4])           # 4 indisten baslayip sondan 4 indise kadar\n",
    "\n",
    "print (text1[::-1]) # [baslangic, son, atlama_sayisi] dizini terslemek için son kısım -1 yapılır.\n",
    "print (reversed (text1)) # reversed ters çevirme yapar.\n",
    "print (sorted(text1)) # Karakter dizilerini alfabetik siraya gore dizer\n",
    "print (text1.replace(\"k\",\"K\")) # karakter değiştirmek için kullanılır ( eski karakter, yeni karakter , kac tanesi )"
   ]
  },
  {
   "cell_type": "code",
   "execution_count": 16,
   "metadata": {},
   "outputs": [
    {
     "name": "stdout",
     "output_type": "stream",
     "text": [
      "['Merhaba,', 'Ses']\n",
      "['Merhaba', ' Ses']\n",
      "['Merhaba, Ses']\n",
      "MERHABA, SES\n",
      "merhaba, ses\n",
      "1. Merhaba, ses\n",
      "2. Merhaba, Ses\n",
      "3. mERHABA, sES\n"
     ]
    }
   ],
   "source": [
    "print (text3.split())     # Bölmek için kullanılır. Parametre ile ayırma yerleri belirtilebilir.\n",
    "print (text3.rsplit(\",\")) # Sondan bölmeye başlar\n",
    "print (text3.splitlines()) # Satir satir ayrilmasini saglar\n",
    "\n",
    "#casefold lowerla aynı tek farkı bazı almanca kelimeleri de kucultebilmesidir.\n",
    "print (text3.upper()) # Büyük harf yapar\n",
    "print (text3.lower()) # Küçük harf yapar\n",
    "print (\"1.\",text3.capitalize()) # İlk karakter büyütür geri kalan karakterleri küçültür\n",
    "print (\"2.\",text3.title())      # Her kelimenin ilk harfini büyütür.\n",
    "print (\"3.\",text3.swapcase())   # Büyük harfleri küçük, küçük harfleri büyük yapar"
   ]
  },
  {
   "cell_type": "code",
   "execution_count": 30,
   "metadata": {},
   "outputs": [
    {
     "data": {
      "text/plain": [
       "(False, False, False, True)"
      ]
     },
     "execution_count": 30,
     "metadata": {},
     "output_type": "execute_result"
    }
   ],
   "source": [
    "is_upper = text3.isupper() # Bütün karakterlerin büyük mü kontrol eder\n",
    "is_lower = text3.islower() # Bütün karakterlerin küçük mü kontrol eder\n",
    "end_swith = text3.endswith(\"s\") # Son karakterin sorgulanmasını sağlar.\n",
    "start_swith = text3.startswith(\"m\") # Başlangıç karakterin sorgulanmasını sağlar.\n",
    "is_alpha = text3.isalpha()\n",
    "is_digit = text3.isdigit()     # Sadece sayi\n",
    "is_decimal = text3.isdecimal() # Ondalikli sayi\n",
    "is_num = text3.isalnum()       # Alfanümerik (hem sayi hem harf)\n",
    "\n",
    "is_identifier = \"print\".isidentifier() # Değişken olarak kulanabilir miyiz sorgular\n",
    "is_numeric = \"12\".isnumeric()         # Sayi olup olmadigini kontrol\n",
    "is_space = \"              \".isspace() # Tamammen boşluktan oluşup oluşmadıgına bakar\n",
    "is_upper, is_lower, end_swith, start_swith"
   ]
  },
  {
   "cell_type": "code",
   "execution_count": 27,
   "metadata": {},
   "outputs": [
    {
     "name": "stdout",
     "output_type": "stream",
     "text": [
      "erhaba, Ses\n",
      "m e r h a b a ,   S e s m\n",
      "2\n",
      "8\n",
      "12\n"
     ]
    }
   ],
   "source": [
    "print (text3.strip(\"m\")) # Sagından ve solundan silme işlemi yapar\n",
    "#\"lstrip\" sol taraf \"rstrip\" sağ taraf\n",
    "\n",
    "\n",
    "text4 = \" \".join(text3) # Karakter arasina belirtilen değeri koyar\n",
    "print (text4)\n",
    "print (text4.count(\"a\")) # Karakterin dizide kaç kez gectigi\n",
    "print (text4.index(\"a\")) # Karakterin dizilerinde yerini verir. index (aranacak, başlangıçi , son sira)\n",
    "print (text4.rindex(\"a\")) # Karakter dizilerinde arama sondan başlar\n",
    "#find ve rfind index le aynidir tek farki bulamazsa -1 degeri döndürür."
   ]
  },
  {
   "cell_type": "code",
   "execution_count": 31,
   "metadata": {},
   "outputs": [
    {
     "name": "stdout",
     "output_type": "stream",
     "text": [
      "       m e r h a b a ,   S e s m        \n",
      "               m e r h a b a ,   S e s m\n",
      "m e r h a b a ,   S e s m---------------\n",
      "m e r h a b a ,   S e s m\n",
      "('m e r h a b a ,   S e s m', '', '')\n"
     ]
    }
   ],
   "source": [
    "print (text4.center(40))  # Karakter dizinisi ortalar.\n",
    "print (text4.rjust(40))   # Sağa hizalama\n",
    "print (text4.ljust(40,\"-\")) # Sola hizalama ikinci parametre boş olanların dolmasını sağlar.\n",
    "print (text4.zfill(10))     # Sol tarafa istenilen kadar sıfır ekler\n",
    "print (text4.partition(\"du\")) # İstenilen parametreye göre böler\n",
    "#encode ile istedigimiz kodlama sekline göre yapabiliriz\n",
    "#expandtabs  tab bosluklarını genisletebiiriz"
   ]
  },
  {
   "cell_type": "code",
   "execution_count": 32,
   "metadata": {},
   "outputs": [
    {
     "name": "stdout",
     "output_type": "stream",
     "text": [
      "Semsi\n"
     ]
    }
   ],
   "source": [
    "kaynak = \"şŞıİçÇüÜöÖğĞ\"\n",
    "hedef = \"sSiIcCuUoOgG\"\n",
    "cevir = str.maketrans(kaynak,hedef) # Karakterşerin yer değiştirmesini sağlar.\n",
    "ad = \"Şemsi\"\n",
    "print (ad.translate(cevir))"
   ]
  },
  {
   "cell_type": "code",
   "execution_count": 1,
   "metadata": {},
   "outputs": [
    {
     "name": "stdout",
     "output_type": "stream",
     "text": [
      "'\\n'\n",
      "\\n\n",
      "'\\n'\n",
      "\n",
      "\n",
      "10\n"
     ]
    }
   ],
   "source": [
    "print (repr(\"\\n\")) #normalde gozukmeyen kacis satirlarini gosterilmesine yarar\n",
    "print (r\"\\n\") #repr kisaltilmis hali\n",
    "print (ascii(\"\\n\")) #repr ayni\n",
    "print (chr(10)) # sayilarin karsiligi gosterir\n",
    "print (ord(\"\\n\")) #chr tam tersi  sayi karsiligini verir."
   ]
  }
 ],
 "metadata": {
  "kernelspec": {
   "display_name": "Python 3",
   "language": "python",
   "name": "python3"
  },
  "language_info": {
   "codemirror_mode": {
    "name": "ipython",
    "version": 3
   },
   "file_extension": ".py",
   "mimetype": "text/x-python",
   "name": "python",
   "nbconvert_exporter": "python",
   "pygments_lexer": "ipython3",
   "version": "3.10.12"
  }
 },
 "nbformat": 4,
 "nbformat_minor": 2
}
