{
 "cells": [
  {
   "cell_type": "markdown",
   "metadata": {},
   "source": [
    "- Dosyanın nereye cikmasini istiyorsak yolu  dosyadan once yazariz\n",
    "- r = read\n",
    "- w = write\n",
    "- a = w ile ayni farki dosya varsa icindeki veriyi silmez\n",
    "- x = w ile ayni farki dosya adinda dosya varsa o  hata verir\n",
    "- r+ = w + r\n",
    "- w+ = w + r\n",
    "- a+ = w + r\n",
    "- _b = sona b konulursa binary sistemler icin"
   ]
  },
  {
   "cell_type": "code",
   "execution_count": 1,
   "metadata": {},
   "outputs": [],
   "source": [
    "ad = \"cba\"\n",
    "soyad = \"abc\"\n",
    "dosya = open(\"deneme.txt\",\"w\") # Dosya adi, dosyayı açma yetkisi\n",
    "dosya.write(f\"ad : {ad}\\nsoyad : {soyad}\") # Dosyaya yazma \n",
    "dosya.close() # Dosyayi  kapatma"
   ]
  },
  {
   "cell_type": "code",
   "execution_count": 3,
   "metadata": {},
   "outputs": [
    {
     "name": "stdout",
     "output_type": "stream",
     "text": [
      "\n",
      "True\n",
      "True\n",
      "w+\n",
      "deneme.txt\n",
      "10\n",
      "UTF-8\n"
     ]
    }
   ],
   "source": [
    "# \"with\" otomatik kapatmak icin kullanilir\n",
    "with open(\"deneme.txt\",\"w+\") as dosya : \n",
    "  print (dosya.read())\n",
    "#   rideline ile satir satir okunur \n",
    "#   ridelines bize bir liste verir\n",
    "  print (dosya.readable()) # Okuma izni olup olmadigimizi kontrol eder\n",
    "  print (dosya.writable()) # Yazma izni olup olmadigimizi kontrol eder\n",
    "  print (dosya.mode) # Hangi moda acildigi\n",
    "  print (dosya.name) # Dosyanin adi\n",
    "  dosya.seek(10)     # 19 byte gider\n",
    "  print (dosya.tell()) # Kacinci byte oldugumuzu ögreniriz\n",
    "  print (dosya.encoding) # Hangi dil kodlamasi ile yapildigi gosterir\n",
    "  veri = dosya.readlines()\n",
    "  veri.insert(2, \"----------------\")\n",
    "  dosya.seek(0)\n",
    "  for satir in veri :\n",
    "    dosya.write(satir)\n",
    "  dosya.truncate(15) # Belirtilen kısma kadarını bırakıp geri kalan veriyi siler"
   ]
  },
  {
   "cell_type": "markdown",
   "metadata": {},
   "source": [
    "---\n",
    "### Binary Dosyaları\n",
    "Resim dosyalari, müzik dosyalari, video, office dosyalari vb dosyalardir.\n",
    "\n",
    "---"
   ]
  },
  {
   "cell_type": "code",
   "execution_count": null,
   "metadata": {},
   "outputs": [],
   "source": [
    "fi = open (\"ders.pdf\",\"rb\")\n",
    "file = fi.read()\n",
    "\n",
    "a = file.index(b\"/Creator\")  # Belgeyi isteyen yazilim\n",
    "b = file.index(b\"/Producer\") # Belgeyi PDF çeviren yazilim\n",
    "#c = file.index(b\"/Title\")   # Belgenin başliği\n",
    "d = file.index(b\"/Author\")   # Belgenin yazari\n",
    "#e = file.index(b\"/Subject\") # Belgenin konusu\n",
    "#f = file.index(b\"Keywords\") # Belgenin anahtar kelimesi\n",
    "g = file.index(b\"/CreationDate\") # Dosyanin olusturulma tarihi\n",
    "h = file.index(b\"/ModDate\") # Belgenin değiştirilme tarihi\n",
    "\n",
    "chr(file[a])\n",
    "chr(file[b])\n",
    "chr(file[d])\n",
    "chr(file[g])\n",
    "chr(file[h])\n",
    "print (file[a:a+30])\n",
    "print (file[b:b+30])\n",
    "#print (file[c:c+30])\n",
    "print (file[d:d+30])\n",
    "#print (file[e:e+30])\n",
    "#print (file[f:f+30])\n",
    "print (file[g:g+30])\n",
    "print (file[h:h+30])"
   ]
  },
  {
   "cell_type": "markdown",
   "metadata": {},
   "source": [
    "---\n",
    "### Resim Dosya Türü\n",
    "---"
   ]
  },
  {
   "cell_type": "code",
   "execution_count": null,
   "metadata": {},
   "outputs": [],
   "source": [
    "file = open(\"dosya_adi\",\"rb\")\n",
    "veri = file.ride(10)\n",
    "if veri[6:11] in [b\"JFIF\",b\"Exif\"]:\n",
    "  print (\"JPEG dosyasi\")\n",
    "elif veri[:8] == b\"\\211PNG\\r\\n\\032\\n\":\n",
    "  print (\"PNG dosyasi\")\n",
    "elif veri[:3] ==b\"GIF\":\n",
    "  print (\"GIF dosyasi \")\n",
    "elif veri[:2] in [b\"II\",b\"MM\"]:\n",
    "  print (\"TIFF dosyasi \")\n",
    "elif veri[:2] == b\"BM\" :\n",
    "  print (\"BMP dosyasi\")"
   ]
  }
 ],
 "metadata": {
  "kernelspec": {
   "display_name": "Python 3",
   "language": "python",
   "name": "python3"
  },
  "language_info": {
   "codemirror_mode": {
    "name": "ipython",
    "version": 3
   },
   "file_extension": ".py",
   "mimetype": "text/x-python",
   "name": "python",
   "nbconvert_exporter": "python",
   "pygments_lexer": "ipython3",
   "version": "3.10.12"
  }
 },
 "nbformat": 4,
 "nbformat_minor": 2
}
