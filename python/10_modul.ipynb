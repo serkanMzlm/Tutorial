{
 "cells": [
  {
   "cell_type": "code",
   "execution_count": 1,
   "metadata": {},
   "outputs": [
    {
     "name": "stdout",
     "output_type": "stream",
     "text": [
      "GNU/Linux veya Mac isletim sistemi.\n",
      "/home/serkan/MyWorkspace/tutorial/python\n",
      "3.10.12 (main, Nov 20 2023, 15:14:05) [GCC 11.4.0]\n"
     ]
    }
   ],
   "source": [
    "import os # Operating System \n",
    "import subprocess as sp # Modülü sp ile çağrılabilir.\n",
    "from webbrowser import open as op # İnternet sistemi açılmasını sağlar.\n",
    "from sys import version # Modülün icinde bulunan istedigimiz özelliklerini aktarmamizi saglar\n",
    "from random import * # Modülün içinde bulunan bütün fonksiyonları sisteme dahil edilir.\n",
    "\n",
    "if os.name == \"posix\": # linux ve mac çıktısı\n",
    "    print (\"GNU/Linux veya Mac isletim sistemi.\")\n",
    "elif os.name == \"nt\": # windows  çıktısı\n",
    "    print (\"windows isletim sistemi\")\n",
    "\n",
    "os.makedirs(\"deneme\") # Bulunulan dizinin icine dizi olusturur\n",
    "print(os.getcwd())   # o an  hangi dizinde oldugunuz\n",
    "#sp.call (\"notepad.exe\") notped calistirirlir.\n",
    "op(\"https://github.com/serkanMzlm\") # web sayfasini acar\n",
    "print(version) # python surumunu verir sadece bu ozellik aktarildigi icin \"sys.\" yazılmaz"
   ]
  }
 ],
 "metadata": {
  "kernelspec": {
   "display_name": "Python 3",
   "language": "python",
   "name": "python3"
  },
  "language_info": {
   "codemirror_mode": {
    "name": "ipython",
    "version": 3
   },
   "file_extension": ".py",
   "mimetype": "text/x-python",
   "name": "python",
   "nbconvert_exporter": "python",
   "pygments_lexer": "ipython3",
   "version": "3.10.12"
  }
 },
 "nbformat": 4,
 "nbformat_minor": 2
}
