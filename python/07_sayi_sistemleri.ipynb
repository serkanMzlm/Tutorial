{
 "cells": [
  {
   "cell_type": "code",
   "execution_count": 6,
   "metadata": {},
   "outputs": [
    {
     "data": {
      "text/plain": [
       "(23, '0b10111', '0o27', '0x17')"
      ]
     },
     "execution_count": 6,
     "metadata": {},
     "output_type": "execute_result"
    }
   ],
   "source": [
    "num = 23\n",
    "text = \"\"\"\n",
    "binary = {0:b}\n",
    "octal = {0:o}\n",
    "desimal = {0}\n",
    "hexadecimal = {0:x}\n",
    "\"\"\"\n",
    "\n",
    "# Decimal - Binary  -  Octal  -  Hexadecimal   \n",
    "num,       bin(num),  oct(num),   hex(num)"
   ]
  },
  {
   "cell_type": "code",
   "execution_count": 15,
   "metadata": {},
   "outputs": [
    {
     "name": "stdout",
     "output_type": "stream",
     "text": [
      "12A =  298\n",
      "\n",
      "binary = 100101010\n",
      "octal = 452\n",
      "desimal = 298\n",
      "hexadecimal = 12a\n",
      "\n",
      "Bit Alani: 9\n",
      "sayi =  (10+5j)\n",
      "Sanal kismi =  5.0\n",
      "Reel kismi =  10.0\n"
     ]
    }
   ],
   "source": [
    "num = int('12A',16) # Tam sayiya döndürme\n",
    "print (\"12A = \",num)\n",
    "print (text.format(num))\n",
    "print (\"Bit Alani:\", num.bit_length()) # Kaç bit kapladığı\n",
    "\n",
    "# Karmaşık Sayilar\n",
    "sayi = 10+5j\n",
    "print (\"sayi = \",sayi)\n",
    "print (\"Sanal kismi = \",sayi.imag)\n",
    "print (\"Reel kismi = \",sayi.real)"
   ]
  },
  {
   "cell_type": "code",
   "execution_count": 11,
   "metadata": {},
   "outputs": [
    {
     "data": {
      "text/plain": [
       "(25, 2)"
      ]
     },
     "execution_count": 11,
     "metadata": {},
     "output_type": "execute_result"
    }
   ],
   "source": [
    "num = 12.5\n",
    "num.as_integer_ratio() # Float sayının hangi iki tam sayının sonucu oluştuğunu verir."
   ]
  },
  {
   "cell_type": "code",
   "execution_count": 10,
   "metadata": {},
   "outputs": [
    {
     "data": {
      "text/plain": [
       "False"
      ]
     },
     "execution_count": 10,
     "metadata": {},
     "output_type": "execute_result"
    }
   ],
   "source": [
    "num.is_integer() # . sonrasi sıfır olup olmadığını kontrol eder"
   ]
  },
  {
   "cell_type": "code",
   "execution_count": 22,
   "metadata": {},
   "outputs": [
    {
     "name": "stdout",
     "output_type": "stream",
     "text": [
      "|-2| = 2\n",
      "10:2 = 5 \n",
      "kalan: 0\n",
      "[1, 2, 3, 4, 5, 6, 7, 8, 9]\n",
      "Max: 9\n",
      "Min: 1\n",
      "Sum: 45\n",
      "Istanbul\n"
     ]
    }
   ],
   "source": [
    "print (\"|-2| =\", abs(-2)) # Mutlak değer\n",
    "deger = divmod(10,2)      # Kalan ve bölümü verir\n",
    "print (\"10:2 =\", deger[0], \"\\nkalan:\", deger[1])\n",
    "\n",
    "liste = [1,2,3,4,5,6,7,8,9]\n",
    "kelimeler = [\"Istanbul\",\"Ankara\",\"Izmir\",\"Mersin\",\"Trabzon\"]\n",
    "print (liste)\n",
    "print (\"Max:\", max(liste))\n",
    "print (\"Min:\", min(liste))\n",
    "print (\"Sum:\", sum(liste))\n",
    "print (max(kelimeler, key=len)) # En uzun kelime"
   ]
  },
  {
   "cell_type": "code",
   "execution_count": 1,
   "metadata": {},
   "outputs": [
    {
     "name": "stdout",
     "output_type": "stream",
     "text": [
      "123,456,789,900.265\n"
     ]
    }
   ],
   "source": [
    "print(\"{:,}\".format(123456789900.265))"
   ]
  },
  {
   "cell_type": "code",
   "execution_count": 3,
   "metadata": {},
   "outputs": [
    {
     "name": "stdout",
     "output_type": "stream",
     "text": [
      "Selam serkan mazlum 30!\n",
      "Sayıların toplamı 24 eder.\n"
     ]
    }
   ],
   "source": [
    "isim = \"serkan\"\n",
    "soyad = \"mazlum\"\n",
    "sayi1, sayi2 = 10 ,20\n",
    "print(f'Selam {isim} {soyad} {sayi1 + sayi2}!')\n",
    "\n",
    "print(f\"\"\"Sayıların toplamı { int(input(\"Birinci sayıyı girin: \")) \n",
    "\t\t\t\t\t\t\t\t\t\t\t+ int(input(\"İkinci sayıyı girin: \")) } eder.\"\"\")"
   ]
  }
 ],
 "metadata": {
  "kernelspec": {
   "display_name": "Python 3",
   "language": "python",
   "name": "python3"
  },
  "language_info": {
   "codemirror_mode": {
    "name": "ipython",
    "version": 3
   },
   "file_extension": ".py",
   "mimetype": "text/x-python",
   "name": "python",
   "nbconvert_exporter": "python",
   "pygments_lexer": "ipython3",
   "version": "3.10.12"
  }
 },
 "nbformat": 4,
 "nbformat_minor": 2
}
