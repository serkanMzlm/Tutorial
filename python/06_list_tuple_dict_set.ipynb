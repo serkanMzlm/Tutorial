{
 "cells": [
  {
   "cell_type": "markdown",
   "metadata": {},
   "source": [
    "### Listeler (list)\n",
    "- Sıralı, değiştirilebilir (mutable) ve tekrar eden öğelere izin veren bir veri yapısıdır. \n",
    "- `[]` ile oluşturulur.\n",
    "- Farklı türleri tutabilir.\n",
    "- Dizi erişim methotlarının hepsi geçerlidir.`liste[5:] - liste[:5]`\n",
    "---"
   ]
  },
  {
   "cell_type": "code",
   "execution_count": 54,
   "metadata": {},
   "outputs": [
    {
     "data": {
      "text/plain": [
       "(['a', 'b', 1, 2, 3, 12.2, 'a', 'a'], ['b', 'u', 'r', 'a', 'k'])"
      ]
     },
     "execution_count": 54,
     "metadata": {},
     "output_type": "execute_result"
    }
   ],
   "source": [
    "name = \"burak\"\n",
    "list1 = [\"a\", \"b\", 1, 2, 3, 12.20, \"a\", \"a\"] \n",
    "list2 = list(name) # Karakter dizilerini kelime kelime listeler\n",
    "list1, list2"
   ]
  },
  {
   "cell_type": "code",
   "execution_count": 55,
   "metadata": {},
   "outputs": [
    {
     "data": {
      "text/plain": [
       "(['h', 'a', 'b', 1, 2, 3, 12.2, 'a', 'a', 'c', 'd', 'e', 'f', 'g'], 14)"
      ]
     },
     "execution_count": 55,
     "metadata": {},
     "output_type": "execute_result"
    }
   ],
   "source": [
    "list1 += [\"c\", \"d\"] # listeye ekleme yapılır \n",
    "list1.append(\"e\")   # listeye ekleme yapılır. Tek tek ekler\n",
    "list1.extend([\"f\", \"g\"]) # listeye ekleme yapılır. Birden fazla ekleme yapılabilir.\n",
    "list1.insert(0, \"h\") # Eklenecek konumu biz belirleriz\n",
    "list2 = [i for i in range (100)] # Bir fonksiyon ile liste doldurulabilir.\n",
    "list3 = list2.copy() # Kopyalamak için kullanılır.\n",
    "list3 = list2[1::]   # Kopyalamak için kullanılır. \n",
    "list3 = list(list2)  # Kopyalamak için kullanılır.\n",
    "list1, len(list1)"
   ]
  },
  {
   "cell_type": "code",
   "execution_count": 56,
   "metadata": {},
   "outputs": [
    {
     "data": {
      "text/plain": [
       "['h', 1, 3, 12.2, 'a', 'a', 'c', 'd', 'e', 'f', 'g']"
      ]
     },
     "execution_count": 56,
     "metadata": {},
     "output_type": "execute_result"
    }
   ],
   "source": [
    "list1.remove(2) # Belirtilen öğeyi siler.\n",
    "list2.pop(2)  # Belirtilen öğeyi siler. Silinen öğeyi ekrana basar.\n",
    "del list1[1:3]  # Belirli bir aralığın silinmesine izin verir\n",
    "list1"
   ]
  },
  {
   "cell_type": "code",
   "execution_count": 57,
   "metadata": {},
   "outputs": [
    {
     "data": {
      "text/plain": [
       "<list_reverseiterator at 0x7114642711e0>"
      ]
     },
     "execution_count": 57,
     "metadata": {},
     "output_type": "execute_result"
    }
   ],
   "source": [
    "reversed(list1) # Ya da list1[::-1] terslemede kullanılır"
   ]
  },
  {
   "cell_type": "code",
   "execution_count": 58,
   "metadata": {},
   "outputs": [
    {
     "name": "stdout",
     "output_type": "stream",
     "text": [
      "4\n",
      "2\n"
     ]
    }
   ],
   "source": [
    "# Belirli bir kurala göre sıralanmasını sağlar. Öğelerin hepsi ayni olmak zorundadir \n",
    "list2 = [1, 2, 5, 3, 4] \n",
    "list2.sort(reverse = True)\n",
    "print (list1.index(\"a\")) # Index değeri bulunmak için kullanılır.\n",
    "print (list1.count(\"a\")) # Kaç defa olduğunu bulmak için kullanılır\n",
    "list2.clear() # Listenin verilerini siler"
   ]
  },
  {
   "cell_type": "code",
   "execution_count": 60,
   "metadata": {},
   "outputs": [
    {
     "name": "stdout",
     "output_type": "stream",
     "text": [
      "0 10\n",
      "0 10\n",
      "6 60\n",
      "6 60\n",
      "67 99\n",
      "67 99\n"
     ]
    }
   ],
   "source": [
    "number = [[0, 10], [6, 60], [67, 99]]\n",
    "for i in number:\n",
    "    print(i[0], i[1]) # ya da print(*i)\n",
    "    print(*i)"
   ]
  },
  {
   "cell_type": "markdown",
   "metadata": {},
   "source": [
    "---\n",
    "### Demetler (tuple)\n",
    "- Sıralı, değiştirilemez (immutable) ve tekrar eden öğelere izin veren bir veri yapısıdır.\n",
    "- `()` ile oluşturulur.\n",
    "- Tek öğeli demetler yapılırken \",\" konmak zorundadir yoksa demet olmaz\n",
    "---"
   ]
  },
  {
   "cell_type": "code",
   "execution_count": 62,
   "metadata": {},
   "outputs": [
    {
     "name": "stdout",
     "output_type": "stream",
     "text": [
      "('a',)\n",
      "3\n",
      "5\n"
     ]
    }
   ],
   "source": [
    "demet = (\"a\",) # Tek ögeli demet \n",
    "demet2 = (\"a\", \"b\", \"c\", 1, 1, 2, 1, 1, 1, 3)\n",
    "print (demet)\n",
    "print (demet2.index(1)) # Index döndürür. Eğer yoksa hata verir\n",
    "print (demet2.count(1)) # Kaç defa olduğunu bulmak için kullanılır"
   ]
  },
  {
   "cell_type": "markdown",
   "metadata": {},
   "source": [
    "---\n",
    "### Sözlük (dictionary)\n",
    "- Anahtar-değer (key-value) çiftlerini saklayan, sıralı ve değiştirilebilir (mutable) bir veri yapısıdır.\n",
    "- `{key : value}` şeklinde oluşturulur.\n",
    "- Sira kavram olmmadigi icin index ile çagrilamaz.\n",
    "---"
   ]
  },
  {
   "cell_type": "code",
   "execution_count": 64,
   "metadata": {},
   "outputs": [
    {
     "name": "stdout",
     "output_type": "stream",
     "text": [
      "c\n",
      "['ç', 'Ç', 'ğ', 'Ğ', 'ş', 'Ş', 'ı', 'İ', 'ü', 'Ü']\n",
      "('c', 'C', 'g', 'G', 's', 'S', 'i', 'I', 'u', 'U')\n",
      "ç : c \n",
      "Ç : C \n",
      "ğ : g \n",
      "Ğ : G \n",
      "ş : s \n",
      "Ş : S \n",
      "ı : i \n",
      "İ : I \n",
      "ü : u \n",
      "Ü : U \n"
     ]
    }
   ],
   "source": [
    "sozluk = {\"ç\":\"c\", \"Ç\":\"C\", \"ğ\":\"g\", \"Ğ\":\"G\", \"ş\":\"s\", \n",
    "          \"Ş\":\"S\", \"ı\":\"i\", \"İ\":\"I\", \"ü\":\"u\", \"Ü\":\"U\"}\n",
    "print(sozluk[\"ç\"])\n",
    "liste = list(sozluk.keys()) # Key değerleri alınır.\n",
    "print (liste)\n",
    "demet = tuple(sozluk.values()) # Value değerleri alınır.\n",
    "print (demet)\n",
    "for anahtar,deger in sozluk.items(): # key ve value değerlerini verir.\n",
    "  print (f\"{anahtar} : {deger} \")"
   ]
  },
  {
   "cell_type": "code",
   "execution_count": 66,
   "metadata": {},
   "outputs": [
    {
     "name": "stdout",
     "output_type": "stream",
     "text": [
      "{'ç': 'TM', 'Ç': 'TM', 'ğ': 'TM', 'Ğ': 'TM', 'ş': 'TM', 'Ş': 'TM', 'ı': 'TM', 'İ': 'TM', 'ü': 'TM', 'Ü': 'TM'}\n",
      "{'Ç': 'C', 'ğ': 'g', 'Ğ': 'G', 'ş': 's', 'Ş': 'S', 'ı': 'i', 'İ': 'I', 'ü': 'u', 'f': 'F'}\n",
      "{'elma': 10, 'armut': 5}\n",
      "{'elma': 7, 'armut': 13}\n"
     ]
    }
   ],
   "source": [
    "\n",
    "sozluk.get(\"d\",\"harf bulunamadı\") # Sorgulama yapar. Bulamazsa bildirimi yazilir\n",
    "yedek_sozluk = sozluk.copy()\n",
    "yedek_sozluk.clear() \n",
    "yeni = dict.fromkeys(liste,\"TM\") # Girilen listeye value değerine atama yapar.\n",
    "print (yeni)\n",
    "sozluk.pop(\"ç\",\"sozukte yok\") # Silmek için kullanılır. Değer yoksa hata mesajı yazılır.\n",
    "sozluk.popitem() # Random silme yapar\n",
    "sozluk.setdefault(\"f\",\"F\") # Eger f yoksa default olarak içindeki değer atanir\n",
    "print (sozluk)\n",
    "stok = {\"elma\" : 10 ,\"armut\":5}\n",
    "yeni = {\"elma\":7, \"armut\":13}\n",
    "print (stok)\n",
    "stok.update(yeni) #Verileri günceller.\n",
    "print (stok)"
   ]
  },
  {
   "cell_type": "markdown",
   "metadata": {},
   "source": [
    "---\n",
    "### Kümeler (set)\n",
    "- Benzersiz (unique) öğelerden oluşan, sırasız ve değiştirilebilir (mutable) bir veri yapısıdır.\n",
    "- `{}` ile oluşturulur.\n",
    "- Index kullanilamaz\n",
    "- Her veri sadece bir kez geçer.\n",
    "---"
   ]
  },
  {
   "cell_type": "code",
   "execution_count": 80,
   "metadata": {},
   "outputs": [
    {
     "name": "stdout",
     "output_type": "stream",
     "text": [
      "{'t', 'l', 'a'}\n",
      "{'d'}\n"
     ]
    }
   ],
   "source": [
    "bos_kume = set() # Boş küme oluşturur.\n",
    "kume = set([\"a\",\"b\",\"c\", 1, 2, 3])\n",
    "bilgi = \"atla\"\n",
    "atla = set(bilgi) # Her harf bir kez eklenir\n",
    "print(atla)\n",
    "\n",
    "atla.clear() # Verileri Temizler\n",
    "bos_kume = kume.copy() # Kopyalar\n",
    "bos_kume.add(\"d\")  # Veri ekler\n",
    "print (bos_kume.difference(kume)) # Kümeler arasında ki farkı gösterir.\n",
    "#difference_update() difference ile nerde ise ayni farki kumenin icini siler sonucu yazar\n",
    "kume.discard(\"a\") # Öge silmek\n",
    "kume.remove(\"b\")  # \"disard\" aynı farkı olmayan değerlerde hata verir\n",
    "kume.pop()  # Öğe silme\n",
    "kume.intersection(bos_kume) # Kesişimi verir\n",
    "\n",
    "kume1 = set([1, 2, 3, 4])\n",
    "kume2 = set([1, 5, 0, 4])\n",
    "kume1.isdisjoint(kume2) # Aynı diye sorgular\n",
    "kume1.issubset(kume2)   # Kümeyi kapsıyor mu\n",
    "kume1.union(kume2) # Küme birleşimi\n",
    "kume1.symmetric_difference(kume2) # Küme farkı\n",
    "\n",
    "kume.update(bos_kume) # İçine yükleme yapılır. (Verileri taşıma)\n",
    "d_kume = frozenset([\"a\",\"b\"]) # Dondurulmus kume degisiklik yapilmasini engeler"
   ]
  }
 ],
 "metadata": {
  "kernelspec": {
   "display_name": "Python 3",
   "language": "python",
   "name": "python3"
  },
  "language_info": {
   "codemirror_mode": {
    "name": "ipython",
    "version": 3
   },
   "file_extension": ".py",
   "mimetype": "text/x-python",
   "name": "python",
   "nbconvert_exporter": "python",
   "pygments_lexer": "ipython3",
   "version": "3.10.12"
  }
 },
 "nbformat": 4,
 "nbformat_minor": 2
}
