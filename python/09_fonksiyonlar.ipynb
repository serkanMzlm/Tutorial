{
 "cells": [
  {
   "cell_type": "markdown",
   "metadata": {},
   "source": [
    "- Karmaşık işlemleri toplayarak tek adımda yapmamizi saglarlar. \n",
    "- `def` ile fonksiyon tanımlanir.\n",
    "- Fonksiyona başlangıç değeri ataya biliriz "
   ]
  },
  {
   "cell_type": "code",
   "execution_count": 28,
   "metadata": {},
   "outputs": [],
   "source": [
    "def kayitol(ad, numara):\n",
    "\tprint(\"ad : \",ad)\n",
    "\tprint(\"numara : \",numara)\n",
    "\tprint(\"-\"*30)\n",
    "\n",
    "def bilgial():\n",
    "\timport sys\n",
    "\tprint(\"Sistem Surum Numarasi: \",sys.version_info.major, \".\",\n",
    "\t   \t\t\tsys.version_info.minor, \".\", sys.version_info.micro, sep=\"\")\n",
    "\tprint(\"İsletim Sistemi : \",sys.platform)\n",
    "\tprint(\"-\"*30)\n",
    "\t\n",
    "def defter(ad = \"mert\",soyad = \"ulu\",numara = \"123456789\"):\n",
    "\tprint(\"ad : \",ad)\n",
    "\tprint(\"soyad : \",soyad)\n",
    "\tprint(\"numara : \",numara)\n",
    "\tprint(\"-\"*30)\n",
    "\n",
    "def topla(*parametre): # Sınırsız sayıda isimsiz parametre alir\n",
    "\tsonuc = 0\n",
    "\tfor i in parametre:\n",
    "\t\tsonuc +=i\n",
    "\tprint(\"sayilarin toplami : \",sonuc)\n",
    "\tprint(\"-\"*30)\n",
    "\n",
    "def adlar(**ad) : # Sınırsız sayıda isimli parametre alır\n",
    "\tprint(ad)\n",
    "\n",
    "def deneme(*par, **par2):\n",
    "\tfor i in par:\n",
    "\t\tprint (i, **par2)\n",
    "\n",
    "def ad ():\n",
    "  add = input (\"adiniz : \")\n",
    "  return add\n",
    "\n",
    "def yeni():\n",
    "  ad = \"bol\"\n",
    "  return ad\n",
    "\t\n",
    "def yeni2():\n",
    "  global ad # Global değişkeni çagirir\n",
    "  ad += \" bol\"\n",
    "  return ad"
   ]
  },
  {
   "cell_type": "code",
   "execution_count": 29,
   "metadata": {},
   "outputs": [
    {
     "name": "stdout",
     "output_type": "stream",
     "text": [
      "ad :  ahmet\n",
      "numara :  1234567899\n",
      "------------------------------\n",
      "Sistem Surum Numarasi: 3.10.12\n",
      "İsletim Sistemi :  linux\n",
      "------------------------------\n",
      "ad :  mert\n",
      "soyad :  ulu\n",
      "numara :  123456789\n",
      "------------------------------\n",
      "ad :  murat\n",
      "soyad :  alkan\n",
      "numara :  1245789631\n",
      "------------------------------\n"
     ]
    }
   ],
   "source": [
    "kayitol(\"ahmet\",\"1234567899\")\n",
    "bilgial()\n",
    "defter()\n",
    "defter(soyad = \"alkan\" ,ad = \"murat\", numara =\"1245789631\")"
   ]
  },
  {
   "cell_type": "code",
   "execution_count": 30,
   "metadata": {},
   "outputs": [
    {
     "name": "stdout",
     "output_type": "stream",
     "text": [
      "sayilarin toplami :  22\n",
      "------------------------------\n",
      "sayilarin toplami :  87\n",
      "------------------------------\n",
      "sayilarin toplami :  72\n",
      "------------------------------\n",
      "sayilarin toplami :  5\n",
      "------------------------------\n"
     ]
    }
   ],
   "source": [
    "topla(10,12)\n",
    "topla(10,12,12,12,12,29)\n",
    "topla(12,23,4,32,1,0)\n",
    "topla(5)"
   ]
  },
  {
   "cell_type": "code",
   "execution_count": 31,
   "metadata": {},
   "outputs": [
    {
     "name": "stdout",
     "output_type": "stream",
     "text": [
      "{'ad1': 'mert', 'ad2': 'ali', 'ad3': 'murat'}\n",
      "ahmet****veli****murat****"
     ]
    }
   ],
   "source": [
    "adlar(ad1=\"mert\",ad2=\"ali\",ad3=\"murat\")\n",
    "deneme(\"ahmet\",\"veli\",\"murat\",sep=\"-\",end=\"****\")"
   ]
  },
  {
   "cell_type": "code",
   "execution_count": 32,
   "metadata": {},
   "outputs": [
    {
     "name": "stdout",
     "output_type": "stream",
     "text": [
      "merhaba ,  serkan\n",
      "bol\n",
      "mert bol\n"
     ]
    }
   ],
   "source": [
    "print (\"merhaba , \",ad())\n",
    "ad = \"mert\"\n",
    "print (yeni())\n",
    "print (yeni2())"
   ]
  },
  {
   "cell_type": "code",
   "execution_count": 1,
   "metadata": {},
   "outputs": [
    {
     "name": "stdout",
     "output_type": "stream",
     "text": [
      "24\n",
      "ad        : Fırat\n",
      "soyad     : Özgül\n",
      "şehir     : İstanbul\n",
      "tel       : 05333213232\n",
      "{'isim': 'Ahmet', 'soyisim': 'Öz', 'meslek': 'Mühendis', 'şehir': 'Ankara'}\n"
     ]
    }
   ],
   "source": [
    "def carp(*sayi):\n",
    "    sonuç = 1\n",
    "    for i in sayi:\n",
    "        sonuç *= i\n",
    "    print(sonuç)\n",
    "\n",
    "def fonksiyon(**parametreler):\n",
    "    print(parametreler)\n",
    "\n",
    "def kayit_olustur(**bilgiler):\n",
    "    for anahtar, değer in bilgiler.items():\n",
    "        print(\"{:<10}: {}\".format(anahtar, değer))\n",
    "\n",
    "carp(1, 2, 3, 4)\n",
    "kayit_olustur(ad=\"Fırat\", soyad=\"Özgül\", şehir=\"İstanbul\", tel=\"05333213232\")\n",
    "fonksiyon(isim=\"Ahmet\", soyisim=\"Öz\", meslek=\"Mühendis\", şehir=\"Ankara\")"
   ]
  },
  {
   "cell_type": "code",
   "execution_count": 2,
   "metadata": {},
   "outputs": [
    {
     "name": "stdout",
     "output_type": "stream",
     "text": [
      "   *    \n",
      " *****  \n",
      " *****  \n",
      "* *  *  \n",
      "* ** *  \n",
      "*    * *\n",
      "*    * *\n",
      "**  ****\n",
      "*  * ***\n"
     ]
    }
   ],
   "source": [
    "image = [\n",
    "    [0, 0, 0, 1, 0, 0, 0, 0],\n",
    "    [0, 1, 1, 1, 1, 1, 0, 0],\n",
    "    [0, 1, 1, 1, 1, 1, 0, 0],\n",
    "    [1, 0, 1, 0, 0, 1, 0, 0],\n",
    "    [1, 0, 1, 1, 0, 1, 0, 0],\n",
    "    [1, 0, 0, 0, 0, 1, 0, 1],\n",
    "    [1, 0, 0, 0, 0, 1, 0, 1],\n",
    "    [1, 1, 0, 0, 1, 1, 1, 1],\n",
    "    [1, 0, 0, 1, 0, 1, 1, 1]\n",
    "]\n",
    "\n",
    "empty = \" \"\n",
    "filled = \"*\"\n",
    "\n",
    "def show():\n",
    "    for row in image:\n",
    "        for pixel in row:\n",
    "            if pixel == 1:\n",
    "                print(filled, end='')\n",
    "            else:\n",
    "                print(empty, end='')\n",
    "        print()\n",
    "show()"
   ]
  },
  {
   "cell_type": "markdown",
   "metadata": {},
   "source": [
    "---\n",
    "### Gömülü Fonksiyonlar\n",
    "- `abs()`: Mutlak deger alma\n",
    "- `raund()`: Sayıları yuvarlama ikinci parametre hassasiyet\n",
    "- `all()`: Boş kume olup olmadığını kontrol eder\n",
    "- `any()`: İcinde bir tane true değer varsa true döner\n",
    "- `enumerate()`: Nesnelere numaralandırma yapar\n",
    "- `sum()`: Dizinin içindeki değerleri toplamak icin kullanılır\n",
    "- `vars()`: Nesnelerin metot ve niteliklerini ögrenmek icin kullanılır.\n",
    "- `ascii() - repr() - bool() - bytes()`\n",
    "- `list() - set() - tuple() - dir()`\n",
    "- `complex() - float() - int() - ord() - oct() - hex()`\n",
    "- `callable() - exit() - filter() - hash() - zip()`\n",
    "- `len() - map() - max() - min() - open() - type()`\n",
    "- `pow() - print() - quit() - range()`\n",
    "---\n",
    "### Lambda Fonksiyonu\n",
    "---"
   ]
  },
  {
   "cell_type": "code",
   "execution_count": 33,
   "metadata": {},
   "outputs": [
    {
     "name": "stdout",
     "output_type": "stream",
     "text": [
      "5\n",
      "7\n"
     ]
    }
   ],
   "source": [
    "def topla(a,b):\n",
    "\treturn a+b\n",
    "\n",
    "topla2 = lambda a, b : a + b # def göre daha kısa  \n",
    "print (topla(2,3))\n",
    "print (topla2(3,4))"
   ]
  },
  {
   "cell_type": "markdown",
   "metadata": {},
   "source": [
    "---\n",
    "### İç İçe Fonksiyonları - özyineleme Fonksiyonu - Üretiçiler\n",
    "- Üreticilerin fonksiyonlardan farki `yield` ve  `next`\n",
    "- `yield` `from` baska bir üreticinin `yield` çekebilir\n",
    "---"
   ]
  },
  {
   "cell_type": "code",
   "execution_count": 41,
   "metadata": {},
   "outputs": [
    {
     "name": "stdout",
     "output_type": "stream",
     "text": [
      "******* mert  demir  12303654789 \n",
      "serkan\n",
      "erkan\n",
      "rkan\n",
      "kan\n",
      "an\n",
      "n\n",
      "\n",
      "serkan\n",
      "serka\n",
      "serk\n",
      "ser\n",
      "se\n",
      "s\n",
      "\n"
     ]
    }
   ],
   "source": [
    "def CV(mesaj):\n",
    "    def ad():\n",
    "        nonlocal mesaj #ana fonksiyonda olan degişken üzerinde değişiklik yapilmasini sağlar\n",
    "        mesaj += \" mert \"\n",
    "    def soyad():\n",
    "        nonlocal mesaj\n",
    "        mesaj += \" demir \"\n",
    "    def numara():\n",
    "        nonlocal mesaj\n",
    "        mesaj += \" 12303654789 \"\n",
    "    ad()    \n",
    "    soyad()\n",
    "    numara()\n",
    "    return  mesaj\n",
    "\n",
    "print(CV(\"*******\"))\n",
    "\n",
    "def isim(ad):\n",
    "    if len(ad) < 1:\n",
    "        return ad\n",
    "    else:\n",
    "        print (ad)\n",
    "        return isim(ad[1:])\n",
    "def tisim(tad):\n",
    "    if len(tad) < 1:\n",
    "        return tad\n",
    "    else :\n",
    "        print (tad)\n",
    "        return tisim(tad[:-1])\n",
    "\n",
    "name = \"serkan\"\n",
    "print (isim(name))\n",
    "print (tisim(name))"
   ]
  },
  {
   "cell_type": "code",
   "execution_count": 43,
   "metadata": {},
   "outputs": [
    {
     "name": "stdout",
     "output_type": "stream",
     "text": [
      "1 2\n",
      "**********\n",
      "1 2\n",
      "uretici2\n",
      "uretici1\n",
      "uretici1.1\n"
     ]
    }
   ],
   "source": [
    "def fonksiyon():\n",
    "    sayi = 0\n",
    "    def say():\n",
    "        nonlocal sayi\n",
    "        sayi += 1\n",
    "        return sayi\n",
    "    return say\n",
    "\n",
    "def uretec():\n",
    "    sayi = 0\n",
    "    while True:\n",
    "        sayi += 1\n",
    "        yield sayi\n",
    "\n",
    "f = fonksiyon()\n",
    "print (f(), f())\n",
    "print (\"*\"*10)\n",
    "\n",
    "u = uretec()\n",
    "print (next(u), next(u))\n",
    "\n",
    "#\n",
    "\n",
    "def ur1():\n",
    "    yield print (\"uretici1\")\n",
    "    yield print (\"uretici1.1\")\n",
    "\n",
    "def ur2():\n",
    "    yield print (\"uretici2\")\n",
    "    yield from  ur1()\n",
    "\n",
    "for i in  ur2():\n",
    "    i"
   ]
  }
 ],
 "metadata": {
  "kernelspec": {
   "display_name": "Python 3",
   "language": "python",
   "name": "python3"
  },
  "language_info": {
   "codemirror_mode": {
    "name": "ipython",
    "version": 3
   },
   "file_extension": ".py",
   "mimetype": "text/x-python",
   "name": "python",
   "nbconvert_exporter": "python",
   "pygments_lexer": "ipython3",
   "version": "3.10.12"
  }
 },
 "nbformat": 4,
 "nbformat_minor": 2
}
